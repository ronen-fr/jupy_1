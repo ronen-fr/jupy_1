{
 "cells": [
  {
   "cell_type": "code",
   "execution_count": 13,
   "metadata": {},
   "outputs": [],
   "source": [
    "import os\n",
    "\n",
    "# List the current directory\n",
    "#print(os.listdir(.))"
   ]
  },
  {
   "cell_type": "code",
   "execution_count": 14,
   "metadata": {},
   "outputs": [
    {
     "name": "stdout",
     "output_type": "stream",
     "text": [
      "will be running in k3\n",
      "env: CEPH_JTEST_ROOT=/home/rfriedma/src/k3/ceph/build\n"
     ]
    }
   ],
   "source": [
    "# Ask the user to select a digit in the range 0 to 8\n",
    "k = int(input(\"Please select a digit in the range 0 to 8: \"))\n",
    "\n",
    "# Check if the digit is within the valid range\n",
    "if 0 <= k <= 8:\n",
    "    print(f\"will be running in k{k}\")\n",
    "else:\n",
    "    print(\"Invalid selection. Please select a digit between 0 and 8.\")\n",
    "    exit(1)\n",
    "\n",
    "from pathlib import Path\n",
    "\n",
    "wd = Path(f\"/home/rfriedma/src/k{k}/ceph/build\")\n",
    "os.chdir(wd)\n",
    "%env CEPH_JTEST_ROOT=/home/rfriedma/src/k{k}/ceph/build\n",
    "!echo $CEPH_JTEST_ROOT > /tmp/jpath\n"
   ]
  },
  {
   "cell_type": "code",
   "execution_count": 15,
   "metadata": {},
   "outputs": [
    {
     "name": "stdout",
     "output_type": "stream",
     "text": [
      "total 9736\n",
      "drwxr-xr-x.  2 rfriedma rfriedma   12288 Dec 19 08:11 bin\n",
      "drwxr-xr-x.  6 rfriedma rfriedma      54 Dec 18 07:40 boost\n",
      "-rw-r--r--.  1 rfriedma rfriedma 6430776 Dec 18 07:38 build.ninja\n",
      "-rw-r--r--.  1 rfriedma rfriedma    4873 Dec 19 08:31 ceph.conf\n",
      "-rw-r--r--.  1 rfriedma rfriedma   90217 Dec 18 07:38 CMakeCache.txt\n",
      "drwxr-xr-x. 10 rfriedma rfriedma    4096 Dec 18 07:41 CMakeFiles\n",
      "-rw-r--r--.  1 rfriedma rfriedma    2665 Dec 18 07:38 cmake_install.cmake\n",
      "-rw-r--r--.  1 rfriedma rfriedma 3348856 Dec 18 07:38 compile_commands.json\n",
      "-rw-r--r--.  1 rfriedma rfriedma     389 Aug  5 08:28 CTestTestfile.cmake\n",
      "drwxr-xr-x.  7 rfriedma rfriedma      68 Dec 19 08:31 dev\n",
      "drwxr-xr-x.  3 rfriedma rfriedma      78 Dec 18 07:38 doc\n",
      "drwxr-xr-x.  3 rfriedma rfriedma      20 Aug  5 08:28 etc\n",
      "drwxr-xr-x.  2 rfriedma rfriedma    4096 Dec 18 07:38 include\n",
      "-rw-------.  1 rfriedma rfriedma     228 Dec 19 08:31 keyring\n",
      "drwxr-xr-x.  3 rfriedma rfriedma    8192 Dec 19 08:11 lib\n",
      "drwxr-xr-x.  4 rfriedma rfriedma      28 Dec 18 07:38 liburing_ext-prefix\n",
      "-rw-r--r--.  1 rfriedma rfriedma     405 Dec 19 08:31 logrotate.conf\n",
      "drwxr-xr-x.  3 rfriedma rfriedma      24 Aug  5 08:28 monitoring\n",
      "drwxr-xr-x. 36 rfriedma rfriedma    8192 Dec 19 09:06 out\n",
      "drwxr-xr-x.  3 rfriedma rfriedma      78 Dec 18 07:38 qa\n",
      "drwxr-xr-x.  4 rfriedma rfriedma      28 Dec 18 07:38 qatlib_ext-prefix\n",
      "drwxr-xr-x. 58 rfriedma rfriedma    4096 Dec 18 07:46 src\n",
      "drwxr-xr-x.  3 rfriedma rfriedma    4096 Dec 18 07:38 systemd\n",
      "-rw-r--r--.  1 rfriedma rfriedma     211 Dec 18 07:38 user-config.jam\n",
      "-rw-r--r--.  1 rfriedma rfriedma     567 Dec 19 08:31 vstart_environment.sh\n"
     ]
    }
   ],
   "source": [
    "!ls -l\n",
    "!bash -c MGR=0 ls -l\n"
   ]
  },
  {
   "cell_type": "code",
   "execution_count": 16,
   "metadata": {
    "vscode": {
     "languageId": "shellscript"
    }
   },
   "outputs": [
    {
     "name": "stdout",
     "output_type": "stream",
     "text": [
      "to_19_1129\n"
     ]
    },
    {
     "name": "stderr",
     "output_type": "stream",
     "text": [
      "rm -f core* \n"
     ]
    },
    {
     "name": "stdout",
     "output_type": "stream",
     "text": [
      "hostname o10\n",
      "ip 172.21.64.10\n",
      "port 40756\n"
     ]
    },
    {
     "name": "stderr",
     "output_type": "stream",
     "text": [
      "/mnt/nvme0/src/k3/ceph/build/bin/ceph-authtool --create-keyring --gen-key --name=mon. /mnt/nvme0/src/k3/ceph/build/keyring --cap mon 'allow *' \n"
     ]
    },
    {
     "name": "stdout",
     "output_type": "stream",
     "text": [
      "creating /mnt/nvme0/src/k3/ceph/build/keyring\n"
     ]
    },
    {
     "name": "stderr",
     "output_type": "stream",
     "text": [
      "/mnt/nvme0/src/k3/ceph/build/bin/ceph-authtool --gen-key --name=client.admin --cap mon 'allow *' --cap osd 'allow *' --cap mds 'allow *' --cap mgr 'allow *' /mnt/nvme0/src/k3/ceph/build/keyring \n",
      "/mnt/nvme0/src/k3/ceph/build/bin/monmaptool --create --clobber --addv a v2:172.21.64.10:40757 --print /tmp/ceph_monmap.2160330 \n"
     ]
    },
    {
     "name": "stdout",
     "output_type": "stream",
     "text": [
      "/mnt/nvme0/src/k3/ceph/build/bin/monmaptool: monmap file /tmp/ceph_monmap.2160330\n",
      "/mnt/nvme0/src/k3/ceph/build/bin/monmaptool: generated fsid 11841b53-873e-4f39-9c49-7218151fbebe\n",
      "setting min_mon_release = quincy\n",
      "epoch 0\n",
      "fsid 11841b53-873e-4f39-9c49-7218151fbebe\n",
      "last_changed 2024-12-19T11:29:21.186264-0600\n",
      "created 2024-12-19T11:29:21.186264-0600\n",
      "min_mon_release 17 (quincy)\n",
      "election_strategy: 1\n",
      "0: v2:172.21.64.10:40757/0 mon.a\n",
      "/mnt/nvme0/src/k3/ceph/build/bin/monmaptool: writing epoch 0 to /tmp/ceph_monmap.2160330 (1 monitors)\n"
     ]
    },
    {
     "name": "stderr",
     "output_type": "stream",
     "text": [
      "rm -rf -- /mnt/nvme0/src/k3/ceph/build/dev/mon.a \n",
      "mkdir -p /mnt/nvme0/src/k3/ceph/build/dev/mon.a \n",
      "/mnt/nvme0/src/k3/ceph/build/bin/ceph-mon --mkfs -c /mnt/nvme0/src/k3/ceph/build/ceph.conf -i a --monmap=/tmp/ceph_monmap.2160330 --keyring=/mnt/nvme0/src/k3/ceph/build/keyring \n",
      "rm -- /tmp/ceph_monmap.2160330 \n",
      "/mnt/nvme0/src/k3/ceph/build/bin/ceph-mon -i a -c /mnt/nvme0/src/k3/ceph/build/ceph.conf \n",
      "Populating config ...\n"
     ]
    },
    {
     "name": "stdout",
     "output_type": "stream",
     "text": [
      "\n",
      "[mgr]\n",
      "\tmgr/telemetry/enable = false\n",
      "\tmgr/telemetry/nag = false\n",
      "creating /mnt/nvme0/src/k3/ceph/build/dev/mgr.x/keyring\n"
     ]
    },
    {
     "name": "stderr",
     "output_type": "stream",
     "text": [
      "/mnt/nvme0/src/k3/ceph/build/bin/ceph -c /mnt/nvme0/src/k3/ceph/build/ceph.conf -i /mnt/nvme0/src/k3/ceph/build/dev/mgr.x/keyring auth add mgr.x mon 'allow profile mgr' mds 'allow *' osd 'allow *' \n",
      "added key for mgr.x\n",
      "/mnt/nvme0/src/k3/ceph/build/bin/ceph -c /mnt/nvme0/src/k3/ceph/build/ceph.conf config set mgr mgr/prometheus/x/server_port 9283 --force \n",
      "Starting mgr.x\n",
      "/mnt/nvme0/src/k3/ceph/build/bin/ceph-mgr -i x -c /mnt/nvme0/src/k3/ceph/build/ceph.conf \n",
      "/mnt/nvme0/src/k3/ceph/build/bin/ceph -c /mnt/nvme0/src/k3/ceph/build/ceph.conf mgr stat \n"
     ]
    },
    {
     "name": "stdout",
     "output_type": "stream",
     "text": [
      "false\n"
     ]
    },
    {
     "name": "stderr",
     "output_type": "stream",
     "text": [
      "waiting for mgr to become available\n",
      "/mnt/nvme0/src/k3/ceph/build/bin/ceph -c /mnt/nvme0/src/k3/ceph/build/ceph.conf mgr stat \n"
     ]
    },
    {
     "name": "stdout",
     "output_type": "stream",
     "text": [
      "false\n"
     ]
    },
    {
     "name": "stderr",
     "output_type": "stream",
     "text": [
      "waiting for mgr to become available\n",
      "/mnt/nvme0/src/k3/ceph/build/bin/ceph -c /mnt/nvme0/src/k3/ceph/build/ceph.conf mgr stat \n"
     ]
    },
    {
     "name": "stdout",
     "output_type": "stream",
     "text": [
      "false\n"
     ]
    },
    {
     "name": "stderr",
     "output_type": "stream",
     "text": [
      "waiting for mgr to become available\n",
      "/mnt/nvme0/src/k3/ceph/build/bin/ceph -c /mnt/nvme0/src/k3/ceph/build/ceph.conf mgr stat \n"
     ]
    },
    {
     "name": "stdout",
     "output_type": "stream",
     "text": [
      "true\n",
      "add osd0 3d14d409-54ed-45db-a303-6144563e4edb\n"
     ]
    },
    {
     "name": "stderr",
     "output_type": "stream",
     "text": [
      "/mnt/nvme0/src/k3/ceph/build/bin/ceph -c /mnt/nvme0/src/k3/ceph/build/ceph.conf osd new 3d14d409-54ed-45db-a303-6144563e4edb -i /mnt/nvme0/src/k3/ceph/build/dev/osd0/new.json \n"
     ]
    },
    {
     "name": "stdout",
     "output_type": "stream",
     "text": [
      "0\n",
      "/mnt/nvme0/src/k3/ceph/build/bin/ceph-osd -i 0 -c /mnt/nvme0/src/k3/ceph/build/ceph.conf --mkfs --key AQD2V2Rnz92kGhAAEarnwYn4h/WjMBnu64Qexw== --osd-uuid 3d14d409-54ed-45db-a303-6144563e4edb \n",
      "2024-12-19T11:29:26.783-0600 7f679948de00 -1 memstore(/mnt/nvme0/src/k3/ceph/build/dev/osd0) /mnt/nvme0/src/k3/ceph/build/dev/osd0\n",
      "start osd.0\n",
      "osd 0 /mnt/nvme0/src/k3/ceph/build/bin/ceph-osd -i 0 -c /mnt/nvme0/src/k3/ceph/build/ceph.conf\n"
     ]
    },
    {
     "name": "stderr",
     "output_type": "stream",
     "text": [
      "/mnt/nvme0/src/k3/ceph/build/bin/ceph-osd -i 0 -c /mnt/nvme0/src/k3/ceph/build/ceph.conf \n"
     ]
    },
    {
     "name": "stdout",
     "output_type": "stream",
     "text": [
      "add osd1 39ca86dd-071c-4656-b341-35a915154bf2\n"
     ]
    },
    {
     "name": "stderr",
     "output_type": "stream",
     "text": [
      "2024-12-19T11:29:26.835-0600 7fe121807e00 -1 Falling back to public interface\n",
      "/mnt/nvme0/src/k3/ceph/build/bin/ceph -c /mnt/nvme0/src/k3/ceph/build/ceph.conf osd new 39ca86dd-071c-4656-b341-35a915154bf2 -i /mnt/nvme0/src/k3/ceph/build/dev/osd1/new.json \n",
      "2024-12-19T11:29:26.856-0600 7fe121807e00 -1 osd.0 0 log_to_monitors true\n"
     ]
    },
    {
     "name": "stdout",
     "output_type": "stream",
     "text": [
      "1\n",
      "/mnt/nvme0/src/k3/ceph/build/bin/ceph-osd -i 1 -c /mnt/nvme0/src/k3/ceph/build/ceph.conf --mkfs --key AQD2V2Rnwj8lMhAAx8yXh1Zw0s9jsQ0Mc6hzsQ== --osd-uuid 39ca86dd-071c-4656-b341-35a915154bf2 \n",
      "2024-12-19T11:29:27.179-0600 7fa14a0f4e00 -1 memstore(/mnt/nvme0/src/k3/ceph/build/dev/osd1) /mnt/nvme0/src/k3/ceph/build/dev/osd1\n",
      "start osd.1\n",
      "osd 1 /mnt/nvme0/src/k3/ceph/build/bin/ceph-osd -i 1 -c /mnt/nvme0/src/k3/ceph/build/ceph.conf\n"
     ]
    },
    {
     "name": "stderr",
     "output_type": "stream",
     "text": [
      "/mnt/nvme0/src/k3/ceph/build/bin/ceph-osd -i 1 -c /mnt/nvme0/src/k3/ceph/build/ceph.conf \n"
     ]
    },
    {
     "name": "stdout",
     "output_type": "stream",
     "text": [
      "add osd2 1379ce99-2a7e-447b-bbc1-093fb4a3a8d2\n"
     ]
    },
    {
     "name": "stderr",
     "output_type": "stream",
     "text": [
      "2024-12-19T11:29:27.230-0600 7f5c8ab1ae00 -1 Falling back to public interface\n",
      "/mnt/nvme0/src/k3/ceph/build/bin/ceph -c /mnt/nvme0/src/k3/ceph/build/ceph.conf osd new 1379ce99-2a7e-447b-bbc1-093fb4a3a8d2 -i /mnt/nvme0/src/k3/ceph/build/dev/osd2/new.json \n",
      "2024-12-19T11:29:27.253-0600 7f5c8ab1ae00 -1 osd.1 0 log_to_monitors true\n"
     ]
    },
    {
     "name": "stdout",
     "output_type": "stream",
     "text": [
      "2\n",
      "/mnt/nvme0/src/k3/ceph/build/bin/ceph-osd -i 2 -c /mnt/nvme0/src/k3/ceph/build/ceph.conf --mkfs --key AQD3V2Rnlzb7DRAAdQcIIqoH3pQia42mIFENGA== --osd-uuid 1379ce99-2a7e-447b-bbc1-093fb4a3a8d2 \n",
      "2024-12-19T11:29:27.570-0600 7f4f66ee0e00 -1 memstore(/mnt/nvme0/src/k3/ceph/build/dev/osd2) /mnt/nvme0/src/k3/ceph/build/dev/osd2\n",
      "start osd.2\n",
      "osd 2 /mnt/nvme0/src/k3/ceph/build/bin/ceph-osd -i 2 -c /mnt/nvme0/src/k3/ceph/build/ceph.conf\n"
     ]
    },
    {
     "name": "stderr",
     "output_type": "stream",
     "text": [
      "/mnt/nvme0/src/k3/ceph/build/bin/ceph-osd -i 2 -c /mnt/nvme0/src/k3/ceph/build/ceph.conf \n"
     ]
    },
    {
     "name": "stdout",
     "output_type": "stream",
     "text": [
      "add osd3 406185d4-e8f6-4bac-bda6-b0ca0731226e\n"
     ]
    },
    {
     "name": "stderr",
     "output_type": "stream",
     "text": [
      "2024-12-19T11:29:27.621-0600 7f102522ae00 -1 Falling back to public interface\n",
      "/mnt/nvme0/src/k3/ceph/build/bin/ceph -c /mnt/nvme0/src/k3/ceph/build/ceph.conf osd new 406185d4-e8f6-4bac-bda6-b0ca0731226e -i /mnt/nvme0/src/k3/ceph/build/dev/osd3/new.json \n",
      "2024-12-19T11:29:27.644-0600 7f102522ae00 -1 osd.2 0 log_to_monitors true\n"
     ]
    },
    {
     "name": "stdout",
     "output_type": "stream",
     "text": [
      "3\n",
      "/mnt/nvme0/src/k3/ceph/build/bin/ceph-osd -i 3 -c /mnt/nvme0/src/k3/ceph/build/ceph.conf --mkfs --key AQD3V2Rn3A5nJRAAdsjf4V6r65IP+0JaK0g7SQ== --osd-uuid 406185d4-e8f6-4bac-bda6-b0ca0731226e \n",
      "2024-12-19T11:29:27.951-0600 7f2c806e6e00 -1 memstore(/mnt/nvme0/src/k3/ceph/build/dev/osd3) /mnt/nvme0/src/k3/ceph/build/dev/osd3\n",
      "start osd.3\n",
      "osd 3 /mnt/nvme0/src/k3/ceph/build/bin/ceph-osd -i 3 -c /mnt/nvme0/src/k3/ceph/build/ceph.conf\n"
     ]
    },
    {
     "name": "stderr",
     "output_type": "stream",
     "text": [
      "/mnt/nvme0/src/k3/ceph/build/bin/ceph-osd -i 3 -c /mnt/nvme0/src/k3/ceph/build/ceph.conf \n"
     ]
    },
    {
     "name": "stdout",
     "output_type": "stream",
     "text": [
      "add osd4 2dabc5e9-736d-4d37-8eec-8926d9c58bef\n"
     ]
    },
    {
     "name": "stderr",
     "output_type": "stream",
     "text": [
      "2024-12-19T11:29:28.004-0600 7f41f611be00 -1 Falling back to public interface\n",
      "/mnt/nvme0/src/k3/ceph/build/bin/ceph -c /mnt/nvme0/src/k3/ceph/build/ceph.conf osd new 2dabc5e9-736d-4d37-8eec-8926d9c58bef -i /mnt/nvme0/src/k3/ceph/build/dev/osd4/new.json \n",
      "2024-12-19T11:29:28.029-0600 7f41f611be00 -1 osd.3 0 log_to_monitors true\n"
     ]
    },
    {
     "name": "stdout",
     "output_type": "stream",
     "text": [
      "4\n",
      "/mnt/nvme0/src/k3/ceph/build/bin/ceph-osd -i 4 -c /mnt/nvme0/src/k3/ceph/build/ceph.conf --mkfs --key AQD4V2Rnh+KPABAAk4eiHjKb+7zJTaR253kLWA== --osd-uuid 2dabc5e9-736d-4d37-8eec-8926d9c58bef \n",
      "2024-12-19T11:29:28.319-0600 7f4b54918e00 -1 memstore(/mnt/nvme0/src/k3/ceph/build/dev/osd4) /mnt/nvme0/src/k3/ceph/build/dev/osd4\n",
      "start osd.4\n",
      "osd 4 /mnt/nvme0/src/k3/ceph/build/bin/ceph-osd -i 4 -c /mnt/nvme0/src/k3/ceph/build/ceph.conf\n"
     ]
    },
    {
     "name": "stderr",
     "output_type": "stream",
     "text": [
      "/mnt/nvme0/src/k3/ceph/build/bin/ceph-osd -i 4 -c /mnt/nvme0/src/k3/ceph/build/ceph.conf \n",
      "2024-12-19T11:29:28.369-0600 7f1629433e00 -1 Falling back to public interface\n",
      "2024-12-19T11:29:28.394-0600 7f1629433e00 -1 osd.4 0 log_to_monitors true\n",
      "OSDs started\n"
     ]
    },
    {
     "name": "stdout",
     "output_type": "stream",
     "text": [
      "\n",
      "\n",
      "\n"
     ]
    },
    {
     "name": "stderr",
     "output_type": "stream",
     "text": [
      "vstart cluster complete. Use stop.sh to stop. See out/* (e.g. 'tail -f out/????') for debug output.\n"
     ]
    },
    {
     "name": "stdout",
     "output_type": "stream",
     "text": [
      "export PYTHONPATH=/home/rfriedma/src/k3/ceph/src/pybind:/mnt/nvme0/src/k3/ceph/build/lib/cython_modules/lib.3:/home/rfriedma/src/k3/ceph/src/python-common:$PYTHONPATH\n",
      "export LD_LIBRARY_PATH=/mnt/nvme0/src/k3/ceph/build/lib:$LD_LIBRARY_PATH\n",
      "export PATH=/mnt/nvme0/src/k3/ceph/build/bin:$PATH\n",
      "export CEPH_CONF=/mnt/nvme0/src/k3/ceph/build/ceph.conf\n",
      "alias cephfs-shell=/home/rfriedma/src/k3/ceph/src/tools/cephfs/shell/cephfs-shell\n",
      "CEPH_DEV=1\n"
     ]
    },
    {
     "name": "stderr",
     "output_type": "stream",
     "text": [
      "*** DEVELOPER MODE: setting PATH, PYTHONPATH and LD_LIBRARY_PATH ***\n",
      "2024-12-19T11:29:32.452-0600 7f1e624006c0 -1 WARNING: all dangerous and experimental features are enabled.\n",
      "2024-12-19T11:29:32.458-0600 7f1e624006c0 -1 WARNING: all dangerous and experimental features are enabled.\n"
     ]
    },
    {
     "name": "stdout",
     "output_type": "stream",
     "text": [
      "  cluster:\n",
      "    id:     90512e00-8121-4cc9-af36-0dac52206275\n",
      "    health: HEALTH_WARN\n",
      "            12 mgr modules have failed dependencies\n",
      " \n",
      "  services:\n",
      "    mon: 1 daemons, quorum a (age 11s)\n",
      "    mgr: x(active, since 8s)\n",
      "    osd: 5 osds: 5 up (since 1.28559s), 5 in (since 4s)\n",
      " \n",
      "  data:\n",
      "    pools:   0 pools, 0 pgs\n",
      "    objects: 0 objects, 0 B\n",
      "    usage:   67 KiB used, 326 MiB / 326 MiB avail\n",
      "    pgs:     \n",
      " \n"
     ]
    },
    {
     "name": "stderr",
     "output_type": "stream",
     "text": [
      "*** DEVELOPER MODE: setting PATH, PYTHONPATH and LD_LIBRARY_PATH ***\n",
      "2024-12-19T11:29:32.730-0600 7f8ef58006c0 -1 WARNING: all dangerous and experimental features are enabled.\n",
      "2024-12-19T11:29:32.752-0600 7f8ef58006c0 -1 WARNING: all dangerous and experimental features are enabled.\n"
     ]
    },
    {
     "name": "stdout",
     "output_type": "stream",
     "text": [
      "osd.0: {\n",
      "    \"success\": \"\"\n",
      "}\n",
      "osd.1: {\n",
      "    \"success\": \"\"\n",
      "}\n",
      "osd.2: {\n",
      "    \"success\": \"\"\n",
      "}\n",
      "osd.3: {\n",
      "    \"success\": \"\"\n",
      "}\n",
      "osd.4: {\n",
      "    \"success\": \"\"\n",
      "}\n"
     ]
    },
    {
     "name": "stderr",
     "output_type": "stream",
     "text": [
      "*** DEVELOPER MODE: setting PATH, PYTHONPATH and LD_LIBRARY_PATH ***\n",
      "2024-12-19T11:29:33.046-0600 7fac684006c0 -1 WARNING: all dangerous and experimental features are enabled.\n",
      "2024-12-19T11:29:33.063-0600 7fac66e006c0 -1 WARNING: all dangerous and experimental features are enabled.\n",
      "*** DEVELOPER MODE: setting PATH, PYTHONPATH and LD_LIBRARY_PATH ***\n",
      "2024-12-19T11:29:35.352-0600 7fe9e44006c0 -1 WARNING: all dangerous and experimental features are enabled.\n",
      "2024-12-19T11:29:35.373-0600 7fe9e44006c0 -1 WARNING: all dangerous and experimental features are enabled.\n"
     ]
    },
    {
     "name": "stdout",
     "output_type": "stream",
     "text": [
      "osd.0: {\n",
      "    \"success\": \"osd_scrub_interval_randomize_ratio = '' (not observed, change may require restart) \"\n",
      "}\n",
      "osd.1: {\n",
      "    \"success\": \"osd_scrub_interval_randomize_ratio = '' (not observed, change may require restart) \"\n",
      "}\n",
      "osd.2: {\n",
      "    \"success\": \"osd_scrub_interval_randomize_ratio = '' (not observed, change may require restart) \"\n",
      "}\n",
      "osd.3: {\n",
      "    \"success\": \"osd_scrub_interval_randomize_ratio = '' (not observed, change may require restart) \"\n",
      "}\n",
      "osd.4: {\n",
      "    \"success\": \"osd_scrub_interval_randomize_ratio = '' (not observed, change may require restart) \"\n",
      "}\n"
     ]
    },
    {
     "name": "stderr",
     "output_type": "stream",
     "text": [
      "*** DEVELOPER MODE: setting PATH, PYTHONPATH and LD_LIBRARY_PATH ***\n",
      "2024-12-19T11:29:35.691-0600 7ff5250006c0 -1 WARNING: all dangerous and experimental features are enabled.\n",
      "2024-12-19T11:29:35.715-0600 7ff5250006c0 -1 WARNING: all dangerous and experimental features are enabled.\n"
     ]
    },
    {
     "name": "stdout",
     "output_type": "stream",
     "text": [
      "osd.0: {\n",
      "    \"success\": \"osd_deep_scrub_randomize_ratio = '' (not observed, change may require restart) \"\n",
      "}\n",
      "osd.1: {\n",
      "    \"success\": \"osd_deep_scrub_randomize_ratio = '' (not observed, change may require restart) \"\n",
      "}\n",
      "osd.2: {\n",
      "    \"success\": \"osd_deep_scrub_randomize_ratio = '' (not observed, change may require restart) \"\n",
      "}\n",
      "osd.3: {\n",
      "    \"success\": \"osd_deep_scrub_randomize_ratio = '' (not observed, change may require restart) \"\n",
      "}\n",
      "osd.4: {\n",
      "    \"success\": \"osd_deep_scrub_randomize_ratio = '' (not observed, change may require restart) \"\n",
      "}\n"
     ]
    },
    {
     "name": "stderr",
     "output_type": "stream",
     "text": [
      "*** DEVELOPER MODE: setting PATH, PYTHONPATH and LD_LIBRARY_PATH ***\n",
      "2024-12-19T11:29:36.019-0600 7f2e192006c0 -1 WARNING: all dangerous and experimental features are enabled.\n",
      "2024-12-19T11:29:36.041-0600 7f2e132006c0 -1 WARNING: all dangerous and experimental features are enabled.\n"
     ]
    },
    {
     "name": "stdout",
     "output_type": "stream",
     "text": [
      "osd.0: {\n",
      "    \"success\": \"osd_scrub_min_interval = '' \"\n",
      "}\n",
      "osd.1: {\n",
      "    \"success\": \"osd_scrub_min_interval = '' \"\n",
      "}\n",
      "osd.2: {\n",
      "    \"success\": \"osd_scrub_min_interval = '' \"\n",
      "}\n",
      "osd.3: {\n",
      "    \"success\": \"osd_scrub_min_interval = '' \"\n",
      "}\n",
      "osd.4: {\n",
      "    \"success\": \"osd_scrub_min_interval = '' \"\n",
      "}\n"
     ]
    },
    {
     "name": "stderr",
     "output_type": "stream",
     "text": [
      "*** DEVELOPER MODE: setting PATH, PYTHONPATH and LD_LIBRARY_PATH ***\n",
      "2024-12-19T11:29:36.312-0600 7fa2eb0006c0 -1 WARNING: all dangerous and experimental features are enabled.\n",
      "2024-12-19T11:29:36.335-0600 7fa2eb0006c0 -1 WARNING: all dangerous and experimental features are enabled.\n"
     ]
    },
    {
     "name": "stdout",
     "output_type": "stream",
     "text": [
      "osd.0: {\n",
      "    \"success\": \"osd_scrub_max_interval = '' \"\n",
      "}\n",
      "osd.1: {\n",
      "    \"success\": \"osd_scrub_max_interval = '' \"\n",
      "}\n",
      "osd.2: {\n",
      "    \"success\": \"osd_scrub_max_interval = '' \"\n",
      "}\n",
      "osd.3: {\n",
      "    \"success\": \"osd_scrub_max_interval = '' \"\n",
      "}\n",
      "osd.4: {\n",
      "    \"success\": \"osd_scrub_max_interval = '' \"\n",
      "}\n"
     ]
    },
    {
     "name": "stderr",
     "output_type": "stream",
     "text": [
      "*** DEVELOPER MODE: setting PATH, PYTHONPATH and LD_LIBRARY_PATH ***\n",
      "2024-12-19T11:29:36.622-0600 7f50a48006c0 -1 WARNING: all dangerous and experimental features are enabled.\n",
      "2024-12-19T11:29:36.644-0600 7f50a48006c0 -1 WARNING: all dangerous and experimental features are enabled.\n"
     ]
    },
    {
     "name": "stdout",
     "output_type": "stream",
     "text": [
      "osd.0: {\n",
      "    \"success\": \"osd_deep_scrub_interval = '' (not observed, change may require restart) \"\n",
      "}\n",
      "osd.1: {\n",
      "    \"success\": \"osd_deep_scrub_interval = '' (not observed, change may require restart) \"\n",
      "}\n",
      "osd.2: {\n",
      "    \"success\": \"osd_deep_scrub_interval = '' (not observed, change may require restart) \"\n",
      "}\n",
      "osd.3: {\n",
      "    \"success\": \"osd_deep_scrub_interval = '' (not observed, change may require restart) \"\n",
      "}\n",
      "osd.4: {\n",
      "    \"success\": \"osd_deep_scrub_interval = '' (not observed, change may require restart) \"\n",
      "}\n"
     ]
    },
    {
     "name": "stderr",
     "output_type": "stream",
     "text": [
      "*** DEVELOPER MODE: setting PATH, PYTHONPATH and LD_LIBRARY_PATH ***\n",
      "2024-12-19T11:29:36.924-0600 7f8b12e006c0 -1 WARNING: all dangerous and experimental features are enabled.\n",
      "2024-12-19T11:29:36.946-0600 7f8b12e006c0 -1 WARNING: all dangerous and experimental features are enabled.\n",
      "pool 'pl1' created\n",
      "*** DEVELOPER MODE: setting PATH, PYTHONPATH and LD_LIBRARY_PATH ***\n",
      "2024-12-19T11:29:38.474-0600 7f1466a006c0 -1 WARNING: all dangerous and experimental features are enabled.\n",
      "2024-12-19T11:29:38.492-0600 7f1466a006c0 -1 WARNING: all dangerous and experimental features are enabled.\n"
     ]
    },
    {
     "name": "stdout",
     "output_type": "stream",
     "text": [
      "1\n"
     ]
    },
    {
     "name": "stderr",
     "output_type": "stream",
     "text": [
      "*** DEVELOPER MODE: setting PATH, PYTHONPATH and LD_LIBRARY_PATH ***\n",
      "2024-12-19T11:29:38.765-0600 7f9ce74006c0 -1 WARNING: all dangerous and experimental features are enabled.\n",
      "2024-12-19T11:29:38.787-0600 7f9ce74006c0 -1 WARNING: all dangerous and experimental features are enabled.\n",
      "set pool 1 size to 3\n",
      "*** DEVELOPER MODE: setting PATH, PYTHONPATH and LD_LIBRARY_PATH ***\n",
      "2024-12-19T11:29:39.488-0600 7f2ae60006c0 -1 WARNING: all dangerous and experimental features are enabled.\n",
      "2024-12-19T11:29:39.510-0600 7f2ae60006c0 -1 WARNING: all dangerous and experimental features are enabled.\n",
      "set pool 1 min_size to 3\n",
      "*** DEVELOPER MODE: setting PATH, PYTHONPATH and LD_LIBRARY_PATH ***\n",
      "2024-12-19T11:29:40.497-0600 7f3cf52006c0 -1 WARNING: all dangerous and experimental features are enabled.\n",
      "2024-12-19T11:29:40.520-0600 7f3cf52006c0 -1 WARNING: all dangerous and experimental features are enabled.\n",
      "set pool 1 pg_autoscale_mode to off\n",
      "*** DEVELOPER MODE: setting PATH, PYTHONPATH and LD_LIBRARY_PATH ***\n",
      "2024-12-19T11:29:41.503-0600 7f3fa78006c0 -1 WARNING: all dangerous and experimental features are enabled.\n",
      "2024-12-19T11:29:41.519-0600 7f3fa78006c0 -1 WARNING: all dangerous and experimental features are enabled.\n"
     ]
    },
    {
     "name": "stdout",
     "output_type": "stream",
     "text": [
      "pool pl1 id 1\n",
      "  nothing is going on\n",
      "\n"
     ]
    },
    {
     "name": "stderr",
     "output_type": "stream",
     "text": [
      "*** DEVELOPER MODE: setting PATH, PYTHONPATH and LD_LIBRARY_PATH ***\n",
      "2024-12-19T11:29:41.791-0600 7fa1f20006c0 -1 WARNING: all dangerous and experimental features are enabled.\n",
      "2024-12-19T11:29:41.813-0600 7fa1f0a006c0 -1 WARNING: all dangerous and experimental features are enabled.\n",
      "set pool 1 noscrub to 1\n",
      "*** DEVELOPER MODE: setting PATH, PYTHONPATH and LD_LIBRARY_PATH ***\n",
      "2024-12-19T11:29:42.507-0600 7fc45bc006c0 -1 WARNING: all dangerous and experimental features are enabled.\n",
      "2024-12-19T11:29:42.529-0600 7fc45bc006c0 -1 WARNING: all dangerous and experimental features are enabled.\n",
      "set pool 1 nodeep-scrub to 1\n",
      "2024-12-19T11:29:45.384-0600 7f17612b1e40 -1 WARNING: all dangerous and experimental features are enabled.\n",
      "2024-12-19T11:29:45.388-0600 7f17612b1e40 -1 WARNING: all dangerous and experimental features are enabled.\n",
      "2024-12-19T11:29:45.388-0600 7f17612b1e40 -1 WARNING: all dangerous and experimental features are enabled.\n"
     ]
    },
    {
     "name": "stdout",
     "output_type": "stream",
     "text": [
      "hints = 1\n",
      "Maintaining 1 concurrent writes of 4096 bytes to objects of size 4096 for up to 1 seconds or 8 objects\n",
      "Object prefix: benchmark_data_o10.vlan105.sepia.ceph.com_2161698\n",
      "  sec Cur ops   started  finished  avg MB/s  cur MB/s last lat(s)  avg lat(s)\n",
      "    0       1         1         0         0         0           -           0\n",
      "Total time run:         0.0237721\n",
      "Total writes made:      8\n",
      "Write size:             4096\n",
      "Object size:            4096\n",
      "Bandwidth (MB/sec):     1.31457\n",
      "Stddev Bandwidth:       0\n",
      "Max bandwidth (MB/sec): 0\n",
      "Min bandwidth (MB/sec): 1.79769e+308\n",
      "Average IOPS:           336\n",
      "Stddev IOPS:            0\n",
      "Max IOPS:               7\n",
      "Min IOPS:               7\n",
      "Average Latency(s):     0.00296718\n",
      "Stddev Latency(s):      0.000576264\n",
      "Max latency(s):         0.00369192\n",
      "Min latency(s):         0.00216462\n"
     ]
    },
    {
     "name": "stderr",
     "output_type": "stream",
     "text": [
      "2024-12-19T11:29:46.443-0600 7f85d72ffe40 -1 WARNING: all dangerous and experimental features are enabled.\n",
      "2024-12-19T11:29:46.447-0600 7f85d72ffe40 -1 WARNING: all dangerous and experimental features are enabled.\n",
      "2024-12-19T11:29:46.447-0600 7f85d72ffe40 -1 WARNING: all dangerous and experimental features are enabled.\n"
     ]
    },
    {
     "name": "stdout",
     "output_type": "stream",
     "text": [
      "hints = 1\n",
      "2024-12-19T11:29:46.452639-0600 Maintaining 16 concurrent writes of 4096 bytes to objects of size 4096 for up to 1 seconds or 128 objects\n",
      "2024-12-19T11:29:46.452653-0600 Object prefix: benchmark_data_o10.vlan105.sepia.ceph.com_2161720\n",
      "2024-12-19T11:29:46.452823-0600   sec Cur ops   started  finished  avg MB/s  cur MB/s last lat(s)  avg lat(s)\n",
      "2024-12-19T11:29:46.452823-0600     0       0         0         0         0         0           -           0\n",
      "2024-12-19T11:29:47.453213-0600 Total time run:         0.0500546\n",
      "Total writes made:      128\n",
      "Write size:             4096\n",
      "Object size:            4096\n",
      "Bandwidth (MB/sec):     9.98909\n",
      "Stddev Bandwidth:       0\n",
      "Max bandwidth (MB/sec): 0\n",
      "Min bandwidth (MB/sec): 1.79769e+308\n",
      "Average IOPS:           2557\n",
      "Stddev IOPS:            0\n",
      "Max IOPS:               127\n",
      "Min IOPS:               127\n",
      "Average Latency(s):     0.00593349\n",
      "Stddev Latency(s):      0.00255596\n",
      "Max latency(s):         0.0124396\n",
      "Min latency(s):         0.00212112\n"
     ]
    },
    {
     "name": "stderr",
     "output_type": "stream",
     "text": [
      "*** DEVELOPER MODE: setting PATH, PYTHONPATH and LD_LIBRARY_PATH ***\n",
      "2024-12-19T11:29:47.630-0600 7f88e22006c0 -1 WARNING: all dangerous and experimental features are enabled.\n",
      "2024-12-19T11:29:47.652-0600 7f88e22006c0 -1 WARNING: all dangerous and experimental features are enabled.\n",
      "pool 'pl2' created\n",
      "*** DEVELOPER MODE: setting PATH, PYTHONPATH and LD_LIBRARY_PATH ***\n",
      "2024-12-19T11:29:48.522-0600 7ff9358006c0 -1 WARNING: all dangerous and experimental features are enabled.\n",
      "2024-12-19T11:29:48.545-0600 7ff9358006c0 -1 WARNING: all dangerous and experimental features are enabled.\n",
      "set pool 2 size to 3\n",
      "*** DEVELOPER MODE: setting PATH, PYTHONPATH and LD_LIBRARY_PATH ***\n",
      "2024-12-19T11:29:49.518-0600 7f507e8006c0 -1 WARNING: all dangerous and experimental features are enabled.\n",
      "2024-12-19T11:29:49.541-0600 7f507e8006c0 -1 WARNING: all dangerous and experimental features are enabled.\n",
      "set pool 2 min_size to 3\n",
      "*** DEVELOPER MODE: setting PATH, PYTHONPATH and LD_LIBRARY_PATH ***\n",
      "2024-12-19T11:29:50.529-0600 7f65cf0006c0 -1 WARNING: all dangerous and experimental features are enabled.\n",
      "2024-12-19T11:29:50.552-0600 7f65cf0006c0 -1 WARNING: all dangerous and experimental features are enabled.\n",
      "set pool 2 pg_autoscale_mode to off\n",
      "*** DEVELOPER MODE: setting PATH, PYTHONPATH and LD_LIBRARY_PATH ***\n",
      "2024-12-19T11:29:51.530-0600 7f43132006c0 -1 WARNING: all dangerous and experimental features are enabled.\n",
      "2024-12-19T11:29:51.547-0600 7f43132006c0 -1 WARNING: all dangerous and experimental features are enabled.\n"
     ]
    },
    {
     "name": "stdout",
     "output_type": "stream",
     "text": [
      "pool pl1 id 1\n",
      "  client io 172 KiB/s wr, 0 op/s rd, 43 op/s wr\n",
      "\n",
      "pool pl2 id 2\n",
      "  nothing is going on\n",
      "\n"
     ]
    },
    {
     "name": "stderr",
     "output_type": "stream",
     "text": [
      "*** DEVELOPER MODE: setting PATH, PYTHONPATH and LD_LIBRARY_PATH ***\n",
      "2024-12-19T11:29:51.821-0600 7f4e39e006c0 -1 WARNING: all dangerous and experimental features are enabled.\n",
      "2024-12-19T11:29:51.843-0600 7f4e33e006c0 -1 WARNING: all dangerous and experimental features are enabled.\n",
      "set pool 2 noscrub to 1\n",
      "*** DEVELOPER MODE: setting PATH, PYTHONPATH and LD_LIBRARY_PATH ***\n",
      "2024-12-19T11:29:52.515-0600 7fcde36006c0 -1 WARNING: all dangerous and experimental features are enabled.\n",
      "2024-12-19T11:29:52.538-0600 7fcde36006c0 -1 WARNING: all dangerous and experimental features are enabled.\n",
      "set pool 2 nodeep-scrub to 1\n",
      "2024-12-19T11:29:55.412-0600 7fb0738f9e40 -1 WARNING: all dangerous and experimental features are enabled.\n",
      "2024-12-19T11:29:55.416-0600 7fb0738f9e40 -1 WARNING: all dangerous and experimental features are enabled.\n",
      "2024-12-19T11:29:55.416-0600 7fb0738f9e40 -1 WARNING: all dangerous and experimental features are enabled.\n"
     ]
    },
    {
     "name": "stdout",
     "output_type": "stream",
     "text": [
      "hints = 1\n",
      "Maintaining 1 concurrent writes of 4096 bytes to objects of size 4096 for up to 1 seconds or 64 objects\n",
      "Object prefix: benchmark_data_o10.vlan105.sepia.ceph.com_2161906\n",
      "  sec Cur ops   started  finished  avg MB/s  cur MB/s last lat(s)  avg lat(s)\n",
      "    0       0         0         0         0         0           -           0\n",
      "Total time run:         0.201023\n",
      "Total writes made:      64\n",
      "Write size:             4096\n",
      "Object size:            4096\n",
      "Bandwidth (MB/sec):     1.24364\n",
      "Stddev Bandwidth:       0\n",
      "Max bandwidth (MB/sec): 0\n",
      "Min bandwidth (MB/sec): 1.79769e+308\n",
      "Average IOPS:           318\n",
      "Stddev IOPS:            0\n",
      "Max IOPS:               63\n",
      "Min IOPS:               63\n",
      "Average Latency(s):     0.00313256\n",
      "Stddev Latency(s):      0.000301378\n",
      "Max latency(s):         0.00395965\n",
      "Min latency(s):         0.00224792\n"
     ]
    },
    {
     "name": "stderr",
     "output_type": "stream",
     "text": [
      "2024-12-19T11:29:56.473-0600 7f2b08882e40 -1 WARNING: all dangerous and experimental features are enabled.\n",
      "2024-12-19T11:29:56.477-0600 7f2b08882e40 -1 WARNING: all dangerous and experimental features are enabled.\n",
      "2024-12-19T11:29:56.477-0600 7f2b08882e40 -1 WARNING: all dangerous and experimental features are enabled.\n"
     ]
    },
    {
     "name": "stdout",
     "output_type": "stream",
     "text": [
      "hints = 1\n",
      "2024-12-19T11:29:56.485414-0600 Maintaining 16 concurrent writes of 4096 bytes to objects of size 4096 for up to 1 seconds or 128 objects\n",
      "2024-12-19T11:29:56.485451-0600 Object prefix: benchmark_data_o10.vlan105.sepia.ceph.com_2161928\n",
      "2024-12-19T11:29:56.485847-0600   sec Cur ops   started  finished  avg MB/s  cur MB/s last lat(s)  avg lat(s)\n",
      "2024-12-19T11:29:56.485847-0600     0       0         0         0         0         0           -           0\n",
      "2024-12-19T11:29:57.486154-0600 Total time run:         0.039414\n",
      "Total writes made:      128\n",
      "Write size:             4096\n",
      "Object size:            4096\n",
      "Bandwidth (MB/sec):     12.6859\n",
      "Stddev Bandwidth:       0\n",
      "Max bandwidth (MB/sec): 0\n",
      "Min bandwidth (MB/sec): 1.79769e+308\n",
      "Average IOPS:           3247\n",
      "Stddev IOPS:            0\n",
      "Max IOPS:               127\n",
      "Min IOPS:               127\n",
      "Average Latency(s):     0.00470808\n",
      "Stddev Latency(s):      0.00128129\n",
      "Max latency(s):         0.0079985\n",
      "Min latency(s):         0.00208243\n"
     ]
    },
    {
     "name": "stderr",
     "output_type": "stream",
     "text": [
      "*** DEVELOPER MODE: setting PATH, PYTHONPATH and LD_LIBRARY_PATH ***\n",
      "2024-12-19T11:29:58.666-0600 7f9f246006c0 -1 WARNING: all dangerous and experimental features are enabled.\n",
      "2024-12-19T11:29:58.689-0600 7f9f246006c0 -1 WARNING: all dangerous and experimental features are enabled.\n"
     ]
    },
    {
     "name": "stdout",
     "output_type": "stream",
     "text": [
      "osd.0: {\n",
      "    \"success\": \"\"\n",
      "}\n",
      "osd.1: {\n",
      "    \"success\": \"\"\n",
      "}\n",
      "osd.2: {\n",
      "    \"success\": \"\"\n",
      "}\n",
      "osd.3: {\n",
      "    \"success\": \"\"\n",
      "}\n",
      "osd.4: {\n",
      "    \"success\": \"\"\n",
      "}\n"
     ]
    },
    {
     "name": "stderr",
     "output_type": "stream",
     "text": [
      "*** DEVELOPER MODE: setting PATH, PYTHONPATH and LD_LIBRARY_PATH ***\n",
      "2024-12-19T11:29:58.979-0600 7fb3868006c0 -1 WARNING: all dangerous and experimental features are enabled.\n",
      "2024-12-19T11:29:58.994-0600 7fb3852006c0 -1 WARNING: all dangerous and experimental features are enabled.\n"
     ]
    },
    {
     "name": "stdout",
     "output_type": "stream",
     "text": [
      "version 39\n",
      "stamp 2024-12-19T11:29:58.236880-0600\n",
      "last_osdmap_epoch 0\n",
      "last_pg_scan 0\n",
      "PG_STAT  OBJECTS  MISSING_ON_PRIMARY  DEGRADED  MISPLACED  UNFOUND  BYTES   OMAP_BYTES*  OMAP_KEYS*  LOG  LOG_DUPS  DISK_LOG  STATE         STATE_STAMP                      VERSION  REPORTED  UP       UP_PRIMARY  ACTING   ACTING_PRIMARY  LAST_SCRUB  SCRUB_STAMP                      LAST_DEEP_SCRUB  DEEP_SCRUB_STAMP                 SNAPTRIMQ_LEN  LAST_SCRUB_DURATION  SCRUB_SCHEDULING                                            OBJECTS_SCRUBBED  OBJECTS_TRIMMED\n",
      "2.f            0                   0         0          0        0       0            0           0    0         0         0  active+clean  2024-12-19T11:29:51.332596-0600      0'0     22:25  [0,4,1]           0  [0,4,1]               0         0'0  2024-12-19T11:29:48.308569-0600              0'0  2024-12-19T11:29:48.308569-0600              0                    0  periodic scrub scheduled @ 2024-12-19T11:29:58.841287-0600                 0                0\n",
      "2.e            0                   0         0          0        0       0            0           0    0         0         0  active+clean  2024-12-19T11:29:51.330564-0600      0'0     23:28  [2,3,4]           2  [2,3,4]               2         0'0  2024-12-19T11:29:48.308569-0600              0'0  2024-12-19T11:29:48.308569-0600              0                    0  periodic scrub scheduled @ 2024-12-19T11:29:58.597316-0600                 0                0\n",
      "2.d            0                   0         0          0        0       0            0           0    0         0         0  active+clean  2024-12-19T11:29:51.334785-0600      0'0     22:25  [1,3,2]           1  [1,3,2]               1         0'0  2024-12-19T11:29:48.308569-0600              0'0  2024-12-19T11:29:48.308569-0600              0                    0  periodic scrub scheduled @ 2024-12-19T11:29:59.040250-0600                 0                0\n",
      "2.c            0                   0         0          0        0       0            0           0    0         0         0  active+clean  2024-12-19T11:29:51.331836-0600      0'0     23:28  [2,0,1]           2  [2,0,1]               2         0'0  2024-12-19T11:29:48.308569-0600              0'0  2024-12-19T11:29:48.308569-0600              0                    0  periodic scrub scheduled @ 2024-12-19T11:29:58.438729-0600                 0                0\n",
      "2.b            0                   0         0          0        0       0            0           0    0         0         0  active+clean  2024-12-19T11:29:51.332461-0600      0'0     23:28  [3,2,1]           3  [3,2,1]               3         0'0  2024-12-19T11:29:48.308569-0600              0'0  2024-12-19T11:29:48.308569-0600              0                    0  periodic scrub scheduled @ 2024-12-19T11:29:58.480635-0600                 0                0\n",
      "2.a            0                   0         0          0        0       0            0           0    0         0         0  active+clean  2024-12-19T11:29:51.333857-0600      0'0     22:25  [1,4,0]           1  [1,4,0]               1         0'0  2024-12-19T11:29:48.308569-0600              0'0  2024-12-19T11:29:48.308569-0600              0                    0  periodic scrub scheduled @ 2024-12-19T11:29:59.176718-0600                 0                0\n",
      "2.9            4                   0         0          0        0   16384            0           0    4         0         4  active+clean  2024-12-19T11:29:51.333311-0600     23'4     23:32  [4,1,0]           4  [4,1,0]               4         0'0  2024-12-19T11:29:48.308569-0600              0'0  2024-12-19T11:29:48.308569-0600              0                    0  periodic scrub scheduled @ 2024-12-19T11:29:58.348776-0600                 0                0\n",
      "2.8            0                   0         0          0        0       0            0           0    0         0         0  active+clean  2024-12-19T11:29:51.333570-0600      0'0     22:25  [0,2,1]           0  [0,2,1]               0         0'0  2024-12-19T11:29:48.308569-0600              0'0  2024-12-19T11:29:48.308569-0600              0                    0  periodic scrub scheduled @ 2024-12-19T11:29:59.218396-0600                 0                0\n",
      "1.0           17                   0         0          0        0   65560            0           0   17         0        17  active+clean  2024-12-19T11:29:41.299439-0600    17'17     22:58  [1,0,2]           1  [1,0,2]               1         0'0  2024-12-19T11:29:37.270570-0600              0'0  2024-12-19T11:29:37.270570-0600              0                    0  queued for scrub                                                           0                0\n",
      "2.3            3                   0         0          0        0   12288            0           0    3         0         3  active+clean  2024-12-19T11:29:51.332756-0600     23'3     23:31  [4,2,1]           4  [4,2,1]               4         0'0  2024-12-19T11:29:48.308569-0600              0'0  2024-12-19T11:29:48.308569-0600              0                    0  periodic scrub scheduled @ 2024-12-19T11:29:59.302899-0600                 0                0\n",
      "1.1           13                   0         0          0        0   53248            0           0   13         0        13  active+clean  2024-12-19T11:29:41.299706-0600    17'13     23:56  [4,3,0]           4  [4,3,0]               4         0'0  2024-12-19T11:29:37.270570-0600              0'0  2024-12-19T11:29:37.270570-0600              0                    0  periodic scrub scheduled @ 2024-12-19T11:30:53.181447-0600                 0                0\n",
      "2.2            0                   0         0          0        0       0            0           0    0         0         0  active+clean  2024-12-19T11:29:51.332750-0600      0'0     23:28  [3,1,0]           3  [3,1,0]               3         0'0  2024-12-19T11:29:48.308569-0600              0'0  2024-12-19T11:29:48.308569-0600              0                    0  periodic scrub scheduled @ 2024-12-19T11:29:58.529642-0600                 0                0\n",
      "1.2           26                   0         0          0        0  106496            0           0   26         0        26  active+clean  2024-12-19T11:29:41.299372-0600    17'26     22:65  [0,4,1]           0  [0,4,1]               0         0'0  2024-12-19T11:29:37.270570-0600              0'0  2024-12-19T11:29:37.270570-0600              0                    0  periodic scrub scheduled @ 2024-12-19T11:30:48.935983-0600                 0                0\n",
      "2.1            0                   0         0          0        0       0            0           0    0         0         0  active+clean  2024-12-19T11:29:51.330397-0600      0'0     23:28  [2,3,0]           2  [2,3,0]               2         0'0  2024-12-19T11:29:48.308569-0600              0'0  2024-12-19T11:29:48.308569-0600              0                    0  periodic scrub scheduled @ 2024-12-19T11:29:58.592787-0600                 0                0\n",
      "1.3           20                   0         0          0        0   81920            0           0   20         0        20  active+clean  2024-12-19T11:29:41.299015-0600    17'20     23:63  [4,1,2]           4  [4,1,2]               4         0'0  2024-12-19T11:29:37.270570-0600              0'0  2024-12-19T11:29:37.270570-0600              0                    0  periodic scrub scheduled @ 2024-12-19T11:30:50.209405-0600                 0                0\n",
      "2.0            0                   0         0          0        0       0            0           0    0         0         0  active+clean  2024-12-19T11:29:51.332811-0600      0'0     23:28  [3,1,0]           3  [3,1,0]               3         0'0  2024-12-19T11:29:48.308569-0600              0'0  2024-12-19T11:29:48.308569-0600              0                    0  periodic scrub scheduled @ 2024-12-19T11:29:58.334410-0600                 0                0\n",
      "2.7            0                   0         0          0        0       0            0           0    0         0         0  active+clean  2024-12-19T11:29:51.330172-0600      0'0     23:28  [3,0,2]           3  [3,0,2]               3         0'0  2024-12-19T11:29:48.308569-0600              0'0  2024-12-19T11:29:48.308569-0600              0                    0  periodic scrub scheduled @ 2024-12-19T11:29:59.235189-0600                 0                0\n",
      "1.4           16                   0         0          0        0   65536            0           0   16         0        16  active+clean  2024-12-19T11:29:41.298733-0600    17'16     23:59  [3,0,1]           3  [3,0,1]               3         0'0  2024-12-19T11:29:37.270570-0600              0'0  2024-12-19T11:29:37.270570-0600              0                    0  queued for scrub                                                           0                0\n",
      "2.6            0                   0         0          0        0       0            0           0    0         0         0  active+clean  2024-12-19T11:29:51.333380-0600      0'0     22:25  [1,0,4]           1  [1,0,4]               1         0'0  2024-12-19T11:29:48.308569-0600              0'0  2024-12-19T11:29:48.308569-0600              0                    0  periodic scrub scheduled @ 2024-12-19T11:29:59.126134-0600                 0                0\n",
      "1.5           16                   0         0          0        0   61464            0           0   16         0        16  active+clean  2024-12-19T11:29:41.299101-0600    17'16     23:59  [4,2,3]           4  [4,2,3]               4         0'0  2024-12-19T11:29:37.270570-0600              0'0  2024-12-19T11:29:37.270570-0600              0                    0  queued for scrub                                                           0                0\n",
      "2.5            0                   0         0          0        0       0            0           0    0         0         0  active+clean  2024-12-19T11:29:51.329819-0600      0'0     23:28  [3,4,0]           3  [3,4,0]               3         0'0  2024-12-19T11:29:48.308569-0600              0'0  2024-12-19T11:29:48.308569-0600              0                    0  periodic scrub scheduled @ 2024-12-19T11:29:58.978432-0600                 0                0\n",
      "1.6           20                   0         0          0        0   81920            0           0   20         0        20  active+clean  2024-12-19T11:29:41.298466-0600    17'20     23:63  [3,4,2]           3  [3,4,2]               3         0'0  2024-12-19T11:29:37.270570-0600              0'0  2024-12-19T11:29:37.270570-0600              0                    0  periodic scrub scheduled @ 2024-12-19T11:30:49.144246-0600                 0                0\n",
      "1.7           10                   0         0          0        0   40960            0           0   10         0        10  active+clean  2024-12-19T11:29:41.299429-0600    17'10     22:51  [1,3,0]           1  [1,3,0]               1         0'0  2024-12-19T11:29:37.270570-0600              0'0  2024-12-19T11:29:37.270570-0600              0                    0  periodic scrub scheduled @ 2024-12-19T11:30:51.001658-0600                 0                0\n",
      "2.4            0                   0         0          0        0       0            0           0    0         0         0  active+clean  2024-12-19T11:29:51.334093-0600      0'0     22:25  [1,0,2]           1  [1,0,2]               1         0'0  2024-12-19T11:29:48.308569-0600              0'0  2024-12-19T11:29:48.308569-0600              0                    0  periodic scrub scheduled @ 2024-12-19T11:29:58.837387-0600                 0                0\n",
      "                                          \n",
      "2    7  0  0  0  0   28672  0  0    7    7\n",
      "1  138  0  0  0  0  557104  0  0  138  138\n",
      "                                            \n",
      "sum  145  0  0  0  0  585776  0  0  145  145\n",
      "OSD_STAT  USED     AVAIL    USED_RAW  TOTAL    HB_PEERS   PG_SUM  PRIMARY_PG_SUM\n",
      "4         544 KiB   65 MiB   544 KiB   65 MiB  [0,1,2,3]      12               5\n",
      "3         364 KiB   65 MiB   364 KiB   65 MiB  [0,1,2,4]      13               7\n",
      "2         352 KiB   65 MiB   352 KiB   65 MiB  [0,1,3,4]      13               3\n",
      "1         416 KiB   65 MiB   416 KiB   65 MiB  [0,2,3,4]      17               6\n",
      "0         388 KiB   65 MiB   388 KiB   65 MiB  [1,2,3,4]      17               3\n",
      "sum       2.0 MiB  324 MiB   2.0 MiB  326 MiB                                   \n",
      "\n",
      "* NOTE: Omap statistics are gathered during deep scrub and may be inaccurate soon afterwards depending on utilization. See http://docs.ceph.com/en/latest/dev/placement-group/#omap-statistics for further details.\n"
     ]
    },
    {
     "name": "stderr",
     "output_type": "stream",
     "text": [
      "dumped all\n"
     ]
    }
   ],
   "source": [
    "%%bash\n",
    "scrtch=to_\"`date +%d_%H%M`\"\n",
    "echo $scrtch\n",
    "\n",
    "MDS=0 MGR=1 OSD=5 MON=1 ../src/vstart.sh -n  --without-dashboard --msgr2 -X --memstore -o \"memstore_device_bytes=68435456\" -o \"osd_op_queue=wpq\"\n",
    "sleep 2\n",
    "bin/ceph -s\n",
    "\n",
    "bin/ceph tell osd.* config set debug_osd 20/20\n",
    "\n",
    "bin/ceph config set global osd_pool_default_pg_autoscale_mode off\n",
    "sleep 2\n",
    "\n",
    "# disable rescheduling of the queue due to 'no-scrub' flags\n",
    "#bin/ceph tell osd.* config set osd_scrub_backoff_ratio 0.9999\n",
    "\n",
    "# initial set of global scrub scheduling parameters\n",
    "bin/ceph tell osd.* config set osd_scrub_interval_randomize_ratio 0.1\n",
    "bin/ceph tell osd.* config set osd_deep_scrub_randomize_ratio 0\n",
    "bin/ceph tell osd.* config set osd_scrub_min_interval 10\n",
    "bin/ceph tell osd.* config set osd_scrub_max_interval 2000\n",
    "bin/ceph tell osd.* config set osd_deep_scrub_interval 600\n",
    "\n",
    "\n",
    "#PL1 is of size 3\n",
    "\n",
    "bin/ceph osd pool create pl1 8 8\n",
    "#bin/ceph osd pool autoscale-status\n",
    "sleep 1\n",
    "pl1_num=`bin/ceph osd pool stats pl1 | sed -n -r -e 's/.*id[^0-9]*([0-9]+)$/\\1/p'`\n",
    "echo $pl1_num\n",
    "bin/ceph osd pool set pl1 size 3\n",
    "bin/ceph osd pool set pl1 min_size 3\n",
    "bin/ceph osd pool set pl1 pg_autoscale_mode off\n",
    "bin/ceph osd pool stats\n",
    "bin/ceph osd pool set pl1 noscrub 1\n",
    "bin/ceph osd pool set pl1 nodeep-scrub 1\n",
    "sleep 2\n",
    "\n",
    "bin/rados bench -p pl1 -t 1 1 write -b 4096 --max-objects 8  --no-cleanup; \n",
    "bin/rados bench -p pl1 1 write -b 4096 --max-objects 128 --show-time --no-cleanup --run-name eeeee\n",
    "\n",
    "#PL2\n",
    "\n",
    "bin/ceph osd pool create pl2 16 16\n",
    "bin/ceph osd pool set pl2 size 3\n",
    "bin/ceph osd pool set pl2 min_size 3\n",
    "bin/ceph osd pool set pl2 pg_autoscale_mode off\n",
    "bin/ceph osd pool stats\n",
    "bin/ceph osd pool set pl2 noscrub 1\n",
    "bin/ceph osd pool set pl2 nodeep-scrub 1\n",
    "sleep 2\n",
    "\n",
    "bin/rados bench -p pl2 -t 1 1 write -b 4096 --max-objects 64  --no-cleanup; \n",
    "bin/rados bench -p pl2 1 write -b 4096 --max-objects 128 --show-time --no-cleanup --run-name eeeee\n",
    "sleep 1\n",
    "bin/ceph tell osd.* config set debug_osd 20/20\n",
    "\n",
    "# the set of PGs\n",
    "bin/ceph pg dump\n",
    "bin/ceph pg dump pgs_brief"
   ]
  },
  {
   "cell_type": "code",
   "execution_count": 17,
   "metadata": {
    "vscode": {
     "languageId": "shellscript"
    }
   },
   "outputs": [
    {
     "name": "stdout",
     "output_type": "stream",
     "text": [
      "--------> /home/rfriedma/src/k3/ceph/build\n"
     ]
    }
   ],
   "source": [
    "%%bash\n",
    "echo '-------->' $CEPH_JTEST_ROOT\n",
    "jp=$CEPH_JTEST_ROOT\n",
    "if [ -z $CEPH_JTEST_ROOT ]; then\n",
    "    echo \"CEPH_JTEST_ROOT is not set\"\n",
    "    [[ -f /tmp/jpath ]] && jp=`cat /tmp/jpath` || jp='.'\n",
    "    echo '-------->' $jp\n",
    "    %env CEPH_JTEST_ROOT=$jp\n",
    "fi\n",
    "cd $jp\n"
   ]
  },
  {
   "cell_type": "code",
   "execution_count": null,
   "metadata": {
    "vscode": {
     "languageId": "shellscript"
    }
   },
   "outputs": [],
   "source": [
    "%%bash\n",
    "\n",
    "file_path=\"/tmp/jpath\"\n",
    "if [ -f \"$file_path\" ]; then\n",
    "        file_contents=$(cat \"$file_path\")\n",
    "        echo \"File contents read into variable.\"\n",
    "else\n",
    "        echo \"File does not exist.\"\n",
    "fi"
   ]
  },
  {
   "cell_type": "code",
   "execution_count": null,
   "metadata": {
    "vscode": {
     "languageId": "shellscript"
    }
   },
   "outputs": [],
   "source": [
    "%%bash\n",
    "nosd=5\n",
    "for ((i=0;i<=$nosd;i++)); do\n",
    "  echo \"Query map for OSD $i\"\n",
    "  bin/ceph pg $pl1_num.$i query | jq '.scrubber' \n",
    "done\n"
   ]
  },
  {
   "cell_type": "code",
   "execution_count": null,
   "metadata": {
    "vscode": {
     "languageId": "shellscript"
    }
   },
   "outputs": [],
   "source": [
    "%%bash\n",
    "\n",
    "#cd $CEPH_JTEST_ROOT\n",
    "\n",
    "bin/ceph tell osd.0 dump_scrubs --format=json-pretty > /tmp/ds_00_b4params.json\n",
    "bin/ceph tell osd.1 dump_scrubs --format=json-pretty > /tmp/ds_01_b4params.json\n",
    "bin/ceph tell osd.2 dump_scrubs --format=json-pretty > /tmp/ds_02_b4params.json\n",
    "\n",
    "\n",
    "# set the scheduling parameters\n",
    "\n",
    "bin/ceph osd pool set pl1 scrub_min_interval 1\n",
    "bin/ceph osd pool set pl1 scrub_max_interval 2\n",
    "bin/ceph osd pool set pl1 deep_scrub_interval 1000\n",
    "\n",
    "#bin/ceph osd pool set pl2 scrub_min_interval 2\n",
    "#bin/ceph osd pool set pl2 scrub_max_interval 4\n",
    "#bin/ceph osd pool set pl2 deep_scrub_interval 10\n",
    "\n",
    "sleep 3\n",
    "\n",
    "bin/ceph tell osd.0 dump_scrubs --format=json-pretty > /tmp/ds_00.json\n",
    "bin/ceph tell osd.1 dump_scrubs --format=json-pretty > /tmp/ds_01.json\n",
    "bin/ceph tell osd.2 dump_scrubs --format=json-pretty > /tmp/ds_02.json\n",
    "#bin/ceph tell osd.3 dump_scrubs --format=json-pretty > /tmp/ds_02.json\n",
    "\n",
    "\n",
    "\n"
   ]
  },
  {
   "cell_type": "code",
   "execution_count": null,
   "metadata": {
    "vscode": {
     "languageId": "shellscript"
    }
   },
   "outputs": [],
   "source": [
    "%%bash\n",
    "\n",
    "#%cd $CEPH_JTEST_ROOT\n",
    "\n",
    "# common scrub configs\n",
    "bin/ceph tell osd.* config set osd_blocked_scrub_grace_period 20\n",
    "bin/ceph tell osd.* config set osd_stats_update_period_scrubbing 2\n",
    "bin/ceph tell osd.* config set osd_stats_update_period_not_scrubbing 3\n",
    "#bin/ceph tell osd.* config set osd_scrub_backoff_ratio 0.9999\n",
    "#bin/ceph tell osd.* config set osd_scrub_interval_randomize_ratio 0.1\n",
    "#bin/ceph tell osd.* config set osd_deep_scrub_randomize_ratio 0\n",
    "\n",
    "#bin/ceph tell mgr.$(bin/ceph mgr services | jq -r .mgr) config set mgr_stats_period 2\n"
   ]
  },
  {
   "cell_type": "code",
   "execution_count": null,
   "metadata": {
    "vscode": {
     "languageId": "shellscript"
    }
   },
   "outputs": [],
   "source": [
    "%%bash\n",
    "\n",
    "# list the scrub queue\n",
    "scrtch=to_\"`date +'%H%M%S'`\"\n",
    "echo $scrtch\n",
    "bin/ceph tell osd.0 dump_scrubs --format=json-pretty\n",
    "bin/ceph tell osd.1 dump_scrubs --format=json-pretty\n",
    "bin/ceph tell osd.2 dump_scrubs --format=json-pretty\n",
    "bin/ceph tell osd.0 dump_scrubs --format=json-pretty > /tmp/ds_0$scrtch.json\n",
    "bin/ceph tell osd.1 dump_scrubs --format=json-pretty > /tmp/ds_1$scrtch.json\n",
    "bin/ceph tell osd.2 dump_scrubs --format=json-pretty > /tmp/ds_2$scrtch.json\n"
   ]
  },
  {
   "cell_type": "code",
   "execution_count": null,
   "metadata": {
    "vscode": {
     "languageId": "shellscript"
    }
   },
   "outputs": [],
   "source": [
    "%%bash\n",
    "# set scrub parameters to guarantee slow scrub\n",
    "bin/ceph tell osd.* config set osd_scrub_sleep \"3.0\"\n",
    "bin/ceph tell osd.* config set osd_max_scrubs 1\n",
    "bin/ceph tell osd.* config set osd_scrub_chunk_max 5\n",
    "bin/ceph tell osd.* config set osd_shallow_scrub_chunk_max 5\n"
   ]
  },
  {
   "cell_type": "code",
   "execution_count": null,
   "metadata": {
    "vscode": {
     "languageId": "shellscript"
    }
   },
   "outputs": [],
   "source": [
    "%%bash\n",
    "\n",
    "# set higher urgency to one of the PGs\n",
    "bin/ceph tell $pl1_num.7 scrub\n",
    "bin/ceph tell $pl1_num.6 schedule-deep-scrub\n",
    "sleep 1\n",
    "bin/ceph pg dump pgs\n"
   ]
  },
  {
   "cell_type": "code",
   "execution_count": null,
   "metadata": {
    "vscode": {
     "languageId": "shellscript"
    }
   },
   "outputs": [],
   "source": [
    "%%bash\n",
    "\n",
    "scrtch=to_\"`date +'%H%M%S'`\"\n",
    "echo $scrtch\n",
    "\n",
    "# list the scrub queue\n",
    "bin/ceph tell osd.0 dump_scrubs --format=json-pretty > /tmp/ds_0$scrtch.json\n",
    "bin/ceph tell osd.1 dump_scrubs --format=json-pretty > /tmp/ds_1$scrtch.json\n",
    "bin/ceph tell osd.2 dump_scrubs --format=json-pretty > /tmp/ds_2$scrtch.json\n",
    "bin/ceph tell osd.0 dump_scrubs --format=json-pretty\n",
    "bin/ceph tell osd.1 dump_scrubs --format=json-pretty\n",
    "bin/ceph tell osd.2 dump_scrubs --format=json-pretty\n"
   ]
  },
  {
   "cell_type": "code",
   "execution_count": null,
   "metadata": {
    "vscode": {
     "languageId": "shellscript"
    }
   },
   "outputs": [],
   "source": [
    "raise SystemExit(\"Stop here\")"
   ]
  },
  {
   "cell_type": "code",
   "execution_count": null,
   "metadata": {
    "vscode": {
     "languageId": "shellscript"
    }
   },
   "outputs": [],
   "source": [
    "%%bash\n",
    "\n",
    "#cat /tmp/ds_01.json | jq -s '[.[]|.[]|select(.eligible==true)]| sort_by(.overdue,.pgid)' |  head -20\n",
    "\n",
    "#cat /tmp/ds_01.json | jq -s '[.[]|.[]|select(.eligible==true)|  { pgid, overdue, sched_time } ]' |  head -20\n",
    "\n",
    "#cat /tmp/ds_01.json | jq -s '[.[]|.[]|select(.eligible==true)|  { pgid, overdue, sched_time } ]' |  head -20\n",
    "\n",
    "#cat ds_01.json | jq -s '[.[]|.[]|select(.eligible==false) | .overdue as $ov | . += { \"ov\":$ov } | [.] ] '|  head -20\n",
    "\n",
    "#cat ds_01.json | jq -s '[.[]|.[]|select(.eligible==false) | .overdue as $ov | . += { \"ov\":$ov|not } | [.] ] '|  head -20\n",
    "\n",
    "cat /tmp/ds_01.json | jq -s '[.[]|.[]|select(.eligible==true) | .overdue as $ov | . += { \"ov\":$ov|not } ]| sort_by(.ov,.sched_time,.pgid) | [.]  '|  head -20\n",
    "\n",
    "#cat /tmp/ds_01.json | jq -s '[.[]|.[]|select(.eligible==true) | .overdue as $ov | .level as $lvl | . += { \"ov\":$ov|not, \"lvl\":$lvl } ]| sort_by(.ov,.sched_time,.pgid,.lvl) | [.]  '|  head -20\n",
    "\n",
    "cat /tmp/ds_01.json | jq -s '[.[]|.[]|select(.eligible==true) | .overdue as $ov | .level as $lvl |\n",
    " . += { \"ov\":$ov|not, \"lvl\":$lvl } ]| sort_by(.ov,.sched_time,.pgid,.lvl) | [.]  '|  head -20\n",
    "\n",
    "# use 'eligible' as just one more sort criteria\n",
    "echo \"========================== --- \"\n",
    "cat /tmp/ds_01.json | jq -s '[.[]|.[]| .eligible as $ripe | .overdue as $ov | .level as $lvl |\n",
    " . += { \"not_ripe\":$ripe|not, \"not_ov\":$ov|not, \"lvl\":$lvl } ] | \n",
    " sort_by(.not_ripe, .not_ov,.sched_time,.pgid,.lvl) | [.]  '|  head -100\n",
    "\n",
    "# now - make the sort an irregular one: if comparing the the targets of one PG, level tramps sched time\n",
    "\n"
   ]
  },
  {
   "cell_type": "markdown",
   "metadata": {},
   "source": [
    "# Termination\n"
   ]
  },
  {
   "cell_type": "code",
   "execution_count": null,
   "metadata": {
    "vscode": {
     "languageId": "shellscript"
    }
   },
   "outputs": [],
   "source": [
    "%%bash\n",
    "echo '-------->' $CEPH_JTEST_ROOT\n",
    "cd $CEPH_JTEST_ROOT\n",
    "if [ -z $CEPH_JTEST_ROOT ]; then\n",
    "    echo \"CEPH_JTEST_ROOT is not set\"\n",
    "    [[ -f /tmp/jpath ]] && jp=`cat /tmp/jpath` || jp='.'\n",
    "    echo '-------->' $jp\n",
    "    cd $jp\n",
    "    %env CEPH_JTEST_ROOT=$jp\n",
    "fi\n",
    "\n",
    "pwd\n",
    "\n",
    "../src/stop.sh\n",
    "sleep 4\n",
    "../src/stop.sh\n"
   ]
  }
 ],
 "metadata": {
  "kernelspec": {
   "display_name": "usr",
   "language": "python",
   "name": "python3"
  },
  "language_info": {
   "codemirror_mode": {
    "name": "ipython",
    "version": 3
   },
   "file_extension": ".py",
   "mimetype": "text/x-python",
   "name": "python",
   "nbconvert_exporter": "python",
   "pygments_lexer": "ipython3",
   "version": "3.12.2"
  }
 },
 "nbformat": 4,
 "nbformat_minor": 2
}
