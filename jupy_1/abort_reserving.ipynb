{
 "cells": [
  {
   "cell_type": "code",
   "execution_count": 1,
   "metadata": {},
   "outputs": [],
   "source": [
    "import os\n",
    "\n",
    "# List the current directory\n",
    "#print(os.listdir(.))"
   ]
  },
  {
   "cell_type": "code",
   "execution_count": null,
   "metadata": {},
   "outputs": [],
   "source": [
    "# Ask the user to select a digit in the range 0 to 8\n",
    "k = int(input(\"Please select a digit in the range 0 to 8: \"))\n",
    "\n",
    "# Check if the digit is within the valid range\n",
    "if 0 <= k <= 8:\n",
    "    print(f\"will be running in k{k}\")\n",
    "else:\n",
    "    print(\"Invalid selection. Please select a digit between 0 and 8.\")\n",
    "    exit(1)\n",
    "\n",
    "from pathlib import Path\n",
    "\n",
    "wd = Path(f\"/home/rfriedma/src/k{k}/ceph/build\")\n",
    "os.chdir(wd)\n",
    "%env CEPH_JTEST_ROOT=/home/rfriedma/src/k{k}/ceph/build\n",
    "!echo $CEPH_JTEST_ROOT > /tmp/jpath\n"
   ]
  },
  {
   "cell_type": "code",
   "execution_count": null,
   "metadata": {},
   "outputs": [],
   "source": [
    "!ls -l\n",
    "!bash -c MGR=0 ls -l\n"
   ]
  },
  {
   "cell_type": "code",
   "execution_count": null,
   "metadata": {
    "vscode": {
     "languageId": "shellscript"
    }
   },
   "outputs": [],
   "source": [
    "%%bash\n",
    "scrtch=to_\"`date +%d_%H%M`\"\n",
    "echo $scrtch\n",
    "\n",
    "MDS=0 MGR=1 OSD=5 MON=1 ../src/vstart.sh -n  --without-dashboard --msgr2 -X --memstore -o \"memstore_device_bytes=68435456\" -o \"osd_op_queue=wpq\"\n",
    "sleep 2\n",
    "bin/ceph -s\n",
    "\n",
    "bin/ceph tell osd.* config set debug_osd 20/20\n",
    "\n",
    "bin/ceph config set global osd_pool_default_pg_autoscale_mode off\n",
    "sleep 2\n",
    "\n",
    "# disable rescheduling of the queue due to 'no-scrub' flags\n",
    "#bin/ceph tell osd.* config set osd_scrub_backoff_ratio 0.9999\n",
    "\n",
    "# initial set of global scrub scheduling parameters\n",
    "bin/ceph tell osd.* config set osd_scrub_interval_randomize_ratio 0.1\n",
    "bin/ceph tell osd.* config set osd_deep_scrub_randomize_ratio 0\n",
    "bin/ceph tell osd.* config set osd_scrub_min_interval 10\n",
    "bin/ceph tell osd.* config set osd_scrub_max_interval 2000\n",
    "bin/ceph tell osd.* config set osd_deep_scrub_interval 600\n",
    "\n",
    "\n",
    "#PL1 is of size 3\n",
    "\n",
    "bin/ceph osd pool create pl1 8 8\n",
    "#bin/ceph osd pool autoscale-status\n",
    "sleep 1\n",
    "pl1_num=`bin/ceph osd pool stats pl1 | sed -n -r -e 's/.*id[^0-9]*([0-9]+)$/\\1/p'`\n",
    "echo $pl1_num\n",
    "bin/ceph osd pool set pl1 size 3\n",
    "bin/ceph osd pool set pl1 min_size 3\n",
    "bin/ceph osd pool set pl1 pg_autoscale_mode off\n",
    "bin/ceph osd pool stats\n",
    "bin/ceph osd pool set pl1 noscrub 1\n",
    "bin/ceph osd pool set pl1 nodeep-scrub 1\n",
    "sleep 2\n",
    "\n",
    "bin/rados bench -p pl1 -t 1 1 write -b 4096 --max-objects 8  --no-cleanup; \n",
    "bin/rados bench -p pl1 1 write -b 4096 --max-objects 128 --show-time --no-cleanup --run-name eeeee\n",
    "\n",
    "#PL2\n",
    "\n",
    "bin/ceph osd pool create pl2 16 16\n",
    "bin/ceph osd pool set pl2 size 3\n",
    "bin/ceph osd pool set pl2 min_size 3\n",
    "bin/ceph osd pool set pl2 pg_autoscale_mode off\n",
    "bin/ceph osd pool stats\n",
    "bin/ceph osd pool set pl2 noscrub 1\n",
    "bin/ceph osd pool set pl2 nodeep-scrub 1\n",
    "sleep 2\n",
    "\n",
    "bin/rados bench -p pl2 -t 1 1 write -b 4096 --max-objects 64  --no-cleanup; \n",
    "bin/rados bench -p pl2 1 write -b 4096 --max-objects 128 --show-time --no-cleanup --run-name eeeee\n",
    "sleep 1\n",
    "bin/ceph tell osd.* config set debug_osd 20/20\n",
    "\n",
    "# the set of PGs\n",
    "bin/ceph pg dump\n",
    "bin/ceph pg dump pgs_brief\n",
    "bin/ceph pg dump pgs_brief -f=json-pretty"
   ]
  },
  {
   "cell_type": "code",
   "execution_count": null,
   "metadata": {
    "vscode": {
     "languageId": "shellscript"
    }
   },
   "outputs": [],
   "source": [
    "%%bash\n",
    "echo '-------->' $CEPH_JTEST_ROOT\n",
    "jp=$CEPH_JTEST_ROOT\n",
    "if [ -z $CEPH_JTEST_ROOT ]; then\n",
    "    echo \"CEPH_JTEST_ROOT is not set\"\n",
    "    [[ -f /tmp/jpath ]] && jp=`cat /tmp/jpath` || jp='.'\n",
    "    echo '-------->' $jp\n",
    "    %env CEPH_JTEST_ROOT=$jp\n",
    "fi\n",
    "cd $jp\n"
   ]
  },
  {
   "cell_type": "code",
   "execution_count": null,
   "metadata": {
    "vscode": {
     "languageId": "shellscript"
    }
   },
   "outputs": [],
   "source": [
    "%%bash\n",
    "\n",
    "file_path=\"/tmp/jpath\"\n",
    "if [ -f \"$file_path\" ]; then\n",
    "        file_contents=$(cat \"$file_path\")\n",
    "        echo \"File contents read into variable.\"\n",
    "else\n",
    "        echo \"File does not exist.\"\n",
    "fi"
   ]
  },
  {
   "cell_type": "code",
   "execution_count": null,
   "metadata": {
    "vscode": {
     "languageId": "shellscript"
    }
   },
   "outputs": [],
   "source": [
    "%%bash\n",
    "nosd=5\n",
    "for ((i=0;i<=$nosd;i++)); do\n",
    "  echo \"Query map for OSD $i\"\n",
    "  bin/ceph pg $pl1_num.$i query | jq '.scrubber' \n",
    "done\n"
   ]
  },
  {
   "cell_type": "code",
   "execution_count": null,
   "metadata": {
    "vscode": {
     "languageId": "shellscript"
    }
   },
   "outputs": [],
   "source": [
    "%%bash\n",
    "\n",
    "#cd $CEPH_JTEST_ROOT\n",
    "\n",
    "bin/ceph tell osd.0 dump_scrubs --format=json-pretty > /tmp/ds_00_b4params.json\n",
    "bin/ceph tell osd.1 dump_scrubs --format=json-pretty > /tmp/ds_01_b4params.json\n",
    "bin/ceph tell osd.2 dump_scrubs --format=json-pretty > /tmp/ds_02_b4params.json\n",
    "\n",
    "\n",
    "# set the scheduling parameters\n",
    "\n",
    "bin/ceph osd pool set pl1 scrub_min_interval 1\n",
    "bin/ceph osd pool set pl1 scrub_max_interval 2\n",
    "bin/ceph osd pool set pl1 deep_scrub_interval 1000\n",
    "\n",
    "#bin/ceph osd pool set pl2 scrub_min_interval 2\n",
    "#bin/ceph osd pool set pl2 scrub_max_interval 4\n",
    "#bin/ceph osd pool set pl2 deep_scrub_interval 10\n",
    "\n",
    "sleep 3\n",
    "\n",
    "bin/ceph tell osd.0 dump_scrubs --format=json-pretty > /tmp/ds_00.json\n",
    "bin/ceph tell osd.1 dump_scrubs --format=json-pretty > /tmp/ds_01.json\n",
    "bin/ceph tell osd.2 dump_scrubs --format=json-pretty > /tmp/ds_02.json\n",
    "#bin/ceph tell osd.3 dump_scrubs --format=json-pretty > /tmp/ds_02.json\n",
    "\n",
    "\n",
    "\n"
   ]
  },
  {
   "cell_type": "code",
   "execution_count": null,
   "metadata": {
    "vscode": {
     "languageId": "shellscript"
    }
   },
   "outputs": [],
   "source": [
    "%%bash\n",
    "\n",
    "#%cd $CEPH_JTEST_ROOT\n",
    "\n",
    "# common scrub configs\n",
    "bin/ceph tell osd.* config set osd_blocked_scrub_grace_period 20\n",
    "bin/ceph tell osd.* config set osd_stats_update_period_scrubbing 2\n",
    "bin/ceph tell osd.* config set osd_stats_update_period_not_scrubbing 3\n",
    "#bin/ceph tell osd.* config set osd_scrub_backoff_ratio 0.9999\n",
    "#bin/ceph tell osd.* config set osd_scrub_interval_randomize_ratio 0.1\n",
    "#bin/ceph tell osd.* config set osd_deep_scrub_randomize_ratio 0\n",
    "\n",
    "#bin/ceph tell mgr.$(bin/ceph mgr services | jq -r .mgr) config set mgr_stats_period 2\n"
   ]
  },
  {
   "cell_type": "code",
   "execution_count": null,
   "metadata": {
    "vscode": {
     "languageId": "shellscript"
    }
   },
   "outputs": [],
   "source": [
    "%%bash\n",
    "\n",
    "# list the scrub queue\n",
    "scrtch=to_\"`date +'%H%M%S'`\"\n",
    "echo $scrtch\n",
    "bin/ceph tell osd.0 dump_scrubs --format=json-pretty\n",
    "bin/ceph tell osd.1 dump_scrubs --format=json-pretty\n",
    "bin/ceph tell osd.2 dump_scrubs --format=json-pretty\n",
    "bin/ceph tell osd.0 dump_scrubs --format=json-pretty > /tmp/ds_0$scrtch.json\n",
    "bin/ceph tell osd.1 dump_scrubs --format=json-pretty > /tmp/ds_1$scrtch.json\n",
    "bin/ceph tell osd.2 dump_scrubs --format=json-pretty > /tmp/ds_2$scrtch.json\n"
   ]
  },
  {
   "cell_type": "code",
   "execution_count": null,
   "metadata": {
    "vscode": {
     "languageId": "shellscript"
    }
   },
   "outputs": [],
   "source": [
    "%%bash\n",
    "# set scrub parameters to guarantee slow scrub\n",
    "bin/ceph tell osd.* config set osd_scrub_sleep \"3.0\"\n",
    "bin/ceph tell osd.* config set osd_max_scrubs 1\n",
    "bin/ceph tell osd.* config set osd_scrub_chunk_max 5\n",
    "bin/ceph tell osd.* config set osd_shallow_scrub_chunk_max 5\n"
   ]
  },
  {
   "cell_type": "code",
   "execution_count": null,
   "metadata": {
    "vscode": {
     "languageId": "shellscript"
    }
   },
   "outputs": [],
   "source": [
    "%%bash\n",
    "\n",
    "# set higher urgency to one of the PGs\n",
    "bin/ceph tell $pl1_num.7 scrub\n",
    "bin/ceph tell $pl1_num.6 schedule-deep-scrub\n",
    "sleep 1\n",
    "bin/ceph pg dump pgs\n"
   ]
  },
  {
   "cell_type": "code",
   "execution_count": null,
   "metadata": {
    "vscode": {
     "languageId": "shellscript"
    }
   },
   "outputs": [],
   "source": [
    "%%bash\n",
    "\n",
    "scrtch=to_\"`date +'%H%M%S'`\"\n",
    "echo $scrtch\n",
    "\n",
    "# list the scrub queue\n",
    "bin/ceph tell osd.0 dump_scrubs --format=json-pretty > /tmp/ds_0$scrtch.json\n",
    "bin/ceph tell osd.1 dump_scrubs --format=json-pretty > /tmp/ds_1$scrtch.json\n",
    "bin/ceph tell osd.2 dump_scrubs --format=json-pretty > /tmp/ds_2$scrtch.json\n",
    "bin/ceph tell osd.0 dump_scrubs --format=json-pretty\n",
    "bin/ceph tell osd.1 dump_scrubs --format=json-pretty\n",
    "bin/ceph tell osd.2 dump_scrubs --format=json-pretty\n"
   ]
  },
  {
   "cell_type": "code",
   "execution_count": null,
   "metadata": {
    "vscode": {
     "languageId": "shellscript"
    }
   },
   "outputs": [],
   "source": [
    "%%bash\n",
    "\n",
    "# the idea now is to build on the previous attempt, and:\n",
    "# 1 - create a dictionary of refs to per-pg dictionary of the data (or - if too complex - the data as a list)\n",
    "# 2 - return multiple objects:\n",
    "# 1) a full dict as above\n",
    "# 2) PGs to primary\n",
    "# 3) PGs to acting set\n",
    "# 4) pool to PGs\n",
    "# 5) PG to pool\n",
    "\n",
    "function build_pg_dicts {\n",
    "  local infile=$1\n",
    "  local -n pg_primary_dict=$2\n",
    "  local -n pg_acting_dict=$3\n",
    "  local -n pg_pool_dict=$4\n",
    "\n",
    "  local extr_dbg=2 # note: 3 and above leave some temp files around\n",
    "\n",
    "  #turn off '-x' (but remember previous state)\n",
    "  local saved_echo_flag=${-//[^x]/}\n",
    "  set +x\n",
    "\n",
    "  # if the infile name is '-', fetch the dump directly from the ceph cluster\n",
    "  if [[ $infile == \"-\" ]]; then\n",
    "    local -r ceph_cmd=\"bin/ceph pg dump pgs_brief -f=json-pretty\"\n",
    "    local -r ceph_cmd_out=$(eval $ceph_cmd)\n",
    "    local -r ceph_cmd_rc=$?\n",
    "    if [[ $ceph_cmd_rc -ne 0 ]]; then\n",
    "      echo \"Error: the command '$ceph_cmd' failed with return code $ceph_cmd_rc\"\n",
    "      #return $ceph_cmd_rc\n",
    "    fi\n",
    "    echo \"$ceph_cmd_out\" > /tmp/e2\n",
    "    infile='/tmp/e2'\n",
    "  fi\n",
    "\n",
    "  l0=`jq '[.pg_stats | group_by(.pg_stats)[0] | map({pgid: .pgid, pool: (.pgid | split(\".\")[0]), acting: .acting, acting_primary: .acting_primary})] | .[]' $infile `\n",
    "  (( extr_dbg >= 2 )) && echo \"L0: $l0\"\n",
    "\n",
    "  mapfile -t l1 < <(echo \"$l0\" | jq -c '.[]')\n",
    "  (( extr_dbg >= 2 )) && echo \"L1: ${#l1[@]}\"\n",
    "\n",
    "  for item in \"${l1[@]}\"; do\n",
    "    pgid=$(echo \"$item\" | jq -r '.pgid')\n",
    "    acting=$(echo \"$item\" | jq -r '.acting | @sh')\n",
    "    pg_acting_dict[\"$pgid\"]=$acting\n",
    "    acting_primary=$(echo \"$item\" | jq -r '.acting_primary')\n",
    "    pg_primary_dict[\"$pgid\"]=$acting_primary\n",
    "    pool=$(echo \"$item\" | jq -r '.pool')\n",
    "    pg_pool_dict[\"$pgid\"]=$pool\n",
    "    #pool_dict[\"$pgid\"]=\"acting=($acting) acting_primary=$acting_primary pool=$pool\"\n",
    "  done\n",
    "}\n",
    "\n",
    "declare -A pg_pr\n",
    "declare -A pg_ac\n",
    "declare -A pg_po\n",
    "build_pg_dicts \"-\" pg_pr pg_ac pg_po\n",
    "\n",
    "echo \"PGs to primary:\"\n",
    "for pg in \"${!pg_pr[@]}\"; do\n",
    "  echo \"Got: $pg: ${pg_pr[$pg]} ( ${pg_ac[$pg]} ) ${pg_po[$pg]}\"\n",
    "done\n",
    "\n",
    "\n",
    "\n",
    "# a function that counts the number of common active-set elements between two PGs\n",
    "# 1 - the first PG\n",
    "# 2 - the second PG\n",
    "# 3 - the dictionary of active sets\n",
    "function count_common_active {\n",
    "  local pg1=$1\n",
    "  local pg2=$2\n",
    "  local -n pg_acting_dict=$3\n",
    "  local -n res=$4\n",
    "\n",
    "  local -a a1=(${pg_acting_dict[$pg1]})\n",
    "  local -a a2=(${pg_acting_dict[$pg2]})\n",
    "\n",
    "  local -i cnt=0\n",
    "  for i in \"${a1[@]}\"; do\n",
    "    for j in \"${a2[@]}\"; do\n",
    "      if [[ $i -eq $j ]]; then\n",
    "        cnt=$((cnt+1))\n",
    "      fi\n",
    "    done\n",
    "  done\n",
    "\n",
    "  res=$cnt\n",
    "}\n",
    "\n",
    "# a function that returns an array of the common active-set elements between two PGs\n",
    "# 1 - the first PG\n",
    "# 2 - the second PG\n",
    "# 3 - the dictionary of active sets\n",
    "function get_common_active {\n",
    "  local pg1=$1\n",
    "  local pg2=$2\n",
    "  local -n actng=$3\n",
    "  local -n res=$4\n",
    "\n",
    "  local -a a1=(${actng[$pg1]})\n",
    "  local -a a2=(${actng[$pg2]})\n",
    "\n",
    "  local -a common=()\n",
    "  for i in \"${a1[@]}\"; do\n",
    "    for j in \"${a2[@]}\"; do\n",
    "      if [[ $i -eq $j ]]; then\n",
    "        common+=($i)\n",
    "      fi\n",
    "    done\n",
    "  done\n",
    "\n",
    "  res=(${common[@]})\n",
    "}\n",
    "\n",
    "\n",
    "# given a PG, find another one with a disjoint active set\n",
    "# 1 - the PG\n",
    "# 2 - the dictionary of active sets\n",
    "# 3 - [out] - the PG with a disjoint active set\n",
    "function find_disjoint_pg {\n",
    "  local pg=$1\n",
    "  local -n ac_dict=$2\n",
    "  local -n res=$3\n",
    "\n",
    "  for cand in \"${!ac_dict[@]}\"; do\n",
    "    if [[ $cand != $pg ]]; then\n",
    "      local -i common=0\n",
    "      count_common_active $pg $cand ac_dict common\n",
    "      if [[ $common -eq 0 ]]; then\n",
    "        res=$cand\n",
    "        return\n",
    "      fi\n",
    "    fi\n",
    "  done\n",
    "}\n",
    "\n",
    "echo \"Testing the find_disjoint_pg function\"\n",
    "rs4=\"\"\n",
    "find_disjoint_pg \"2.5\" pg_ac rs4\n",
    "echo \"The result: $rs4\"\n",
    "\n",
    "\n",
    "echo \"done\""
   ]
  },
  {
   "cell_type": "code",
   "execution_count": null,
   "metadata": {
    "vscode": {
     "languageId": "shellscript"
    }
   },
   "outputs": [],
   "source": [
    "raise SystemExit(\"Stop here\")"
   ]
  },
  {
   "cell_type": "markdown",
   "metadata": {},
   "source": [
    "# Termination\n"
   ]
  },
  {
   "cell_type": "code",
   "execution_count": null,
   "metadata": {
    "vscode": {
     "languageId": "shellscript"
    }
   },
   "outputs": [],
   "source": [
    "%%bash\n",
    "echo '-------->' $CEPH_JTEST_ROOT\n",
    "cd $CEPH_JTEST_ROOT\n",
    "if [ -z $CEPH_JTEST_ROOT ]; then\n",
    "    echo \"CEPH_JTEST_ROOT is not set\"\n",
    "    [[ -f /tmp/jpath ]] && jp=`cat /tmp/jpath` || jp='.'\n",
    "    echo '-------->' $jp\n",
    "    cd $jp\n",
    "    %env CEPH_JTEST_ROOT=$jp\n",
    "fi\n",
    "\n",
    "pwd\n",
    "\n",
    "../src/stop.sh\n",
    "sleep 4\n",
    "../src/stop.sh\n"
   ]
  }
 ],
 "metadata": {
  "kernelspec": {
   "display_name": "usr",
   "language": "python",
   "name": "python3"
  },
  "language_info": {
   "codemirror_mode": {
    "name": "ipython",
    "version": 3
   },
   "file_extension": ".py",
   "mimetype": "text/x-python",
   "name": "python",
   "nbconvert_exporter": "python",
   "pygments_lexer": "ipython3",
   "version": "3.12.2"
  }
 },
 "nbformat": 4,
 "nbformat_minor": 2
}
