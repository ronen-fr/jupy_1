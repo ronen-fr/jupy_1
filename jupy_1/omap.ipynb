{
 "cells": [
  {
   "cell_type": "code",
   "execution_count": null,
   "metadata": {},
   "outputs": [],
   "source": [
    "import os\n",
    "\n",
    "# create a large OMAP entry, deep-scrub it, then try to kill the Primary in\n",
    "# such a way that the info change noted by the scrub is never propagated\n",
    "# to the new primary\n",
    "\n",
    "# List the current directory\n",
    "#print(os.listdir(.))"
   ]
  },
  {
   "cell_type": "code",
   "execution_count": null,
   "metadata": {},
   "outputs": [],
   "source": [
    "# Ask the user to select a digit in the range 0 to 8\n",
    "k = int(input(\"Please select a digit in the range 0 to 8: \"))\n",
    "\n",
    "# Check if the digit is within the valid range\n",
    "if 0 <= k <= 8:\n",
    "    print(f\"will be running in k{k}\")\n",
    "else:\n",
    "    print(\"Invalid selection. Please select a digit between 0 and 8.\")\n",
    "    exit(1)\n",
    "\n",
    "from pathlib import Path\n",
    "\n",
    "wd = Path(f\"/home/rfriedma/src/k{k}/ceph/build\")\n",
    "os.chdir(wd)\n",
    "%env CEPH_JTEST_ROOT=/home/rfriedma/src/k{k}/ceph/build\n",
    "!echo $CEPH_JTEST_ROOT > /tmp/jpath\n"
   ]
  },
  {
   "cell_type": "code",
   "execution_count": null,
   "metadata": {},
   "outputs": [],
   "source": [
    "!ls -l\n",
    "!bash -c MGR=0 ls -l\n"
   ]
  },
  {
   "cell_type": "code",
   "execution_count": null,
   "metadata": {
    "vscode": {
     "languageId": "shellscript"
    }
   },
   "outputs": [],
   "source": [
    "%%bash\n",
    "\n",
    "\n",
    "function get_pg() {\n",
    "    local poolname=$1\n",
    "    local objectname=$2\n",
    "    bin/ceph --format json osd map $poolname $objectname 2>/dev/null | jq -r '.pgid'\n",
    "}\n",
    "\n",
    "function get_primary() {\n",
    "    local poolname=$1\n",
    "    local objectname=$2\n",
    "\n",
    "    bin/ceph --format json osd map $poolname $objectname 2>/dev/null | \\\n",
    "        jq '.acting_primary'\n",
    "}\n",
    "\n",
    "\n",
    "\n",
    "\n",
    "scrtch=to_\"`date +%d_%H%M`\"\n",
    "echo $scrtch\n",
    "\n",
    "MDS=0 MGR=1 OSD=5 MON=1 ../src/vstart.sh -n  --without-dashboard --msgr2 -X --memstore -o \"memstore_device_bytes=68435456\" -o \"osd_op_queue=wpq\"\n",
    "sleep 2\n",
    "bin/ceph -s\n",
    "\n",
    "#bin/ceph tell osd.* config set debug_osd 20/20\n",
    "\n",
    "bin/ceph config set global osd_pool_default_pg_autoscale_mode off\n",
    "sleep 2\n",
    "\n",
    "# disable rescheduling of the queue due to 'no-scrub' flags\n",
    "bin/ceph tell osd.* config set osd_scrub_backoff_ratio 0.9999\n",
    "\n",
    "# initial set of global scrub scheduling parameters\n",
    "bin/ceph tell osd.* config set osd_scrub_interval_randomize_ratio 0.1\n",
    "bin/ceph tell osd.* config set osd_deep_scrub_randomize_ratio 0\n",
    "bin/ceph tell osd.* config set osd_scrub_min_interval 10\n",
    "bin/ceph tell osd.* config set osd_scrub_max_interval 2000\n",
    "bin/ceph tell osd.* config set osd_deep_scrub_interval 600\n",
    "\n",
    "\n",
    "#PL1 is of size 2\n",
    "\n",
    "bin/ceph osd pool create pl1 1 1\n",
    "#bin/ceph osd pool autoscale-status\n",
    "sleep 1\n",
    "bin/ceph tell osd.* config set debug_osd 20/20\n",
    "pl1_num=`bin/ceph osd pool stats pl1 | sed -n -r -e 's/.*id[^0-9]*([0-9]+)$/\\1/p'`\n",
    "echo $pl1_num\n",
    "bin/ceph osd pool set pl1 size 2\n",
    "bin/ceph osd pool set pl1 min_size 2\n",
    "bin/ceph osd pool set pl1 pg_autoscale_mode off\n",
    "bin/ceph osd pool stats\n",
    "bin/ceph osd pool set pl1 noscrub 1\n",
    "bin/ceph osd pool set pl1 nodeep-scrub 1\n",
    "sleep 2\n",
    "\n",
    "# create a new object with omap header and a >1MB OMAP entry\n",
    "T=$(mktemp -p /tmp)\n",
    "dd if=/dev/zero of=\"$T\" bs=1024 count=1\n",
    "bin/rados --pool pl1 put obj1 \"$T\" || return 1\n",
    "dd if=/dev/zero of=\"$T\" bs=1024 count=1025\n",
    "bin/rados --pool pl1 setomapheader obj1 hdr-obj1 || return 1\n",
    "bin/rados --pool pl1 setomapval obj1 key1 --input-file=\"$T\" || return 1\n",
    "\n",
    "pg=$(get_pg pl1 obj1)\n",
    "primary=$(get_primary pl1 obj1)\n",
    "echo \"pg=$pg primary=$primary\"\n",
    "\n",
    "\n",
    "# set a small-enough OMAP entry limit\n",
    "bin/ceph tell osd.* config set osd_deep_scrub_large_omap_object_value_sum_threshold 1024\n",
    "\n",
    "# add enough objects to allow us time to kill the primary after detecting\n",
    "# the omap issue. TBD\n",
    "\n",
    "bin/ceph health detail\n",
    "# deep-scrub to detect the large OMAP entry\n",
    "bin/ceph tell $pg deep-scrub\n",
    "sleep 2\n",
    "bin/ceph health detail | grep omap\n",
    "\n",
    "\n",
    "\n"
   ]
  },
  {
   "cell_type": "code",
   "execution_count": null,
   "metadata": {
    "vscode": {
     "languageId": "shellscript"
    }
   },
   "outputs": [],
   "source": [
    "%%bash\n",
    "echo '-------->' $CEPH_JTEST_ROOT\n",
    "jp=$CEPH_JTEST_ROOT\n",
    "if [ -z $CEPH_JTEST_ROOT ]; then\n",
    "    echo \"CEPH_JTEST_ROOT is not set\"\n",
    "    [[ -f /tmp/jpath ]] && jp=`cat /tmp/jpath` || jp='.'\n",
    "    echo '-------->' $jp\n",
    "    %env CEPH_JTEST_ROOT=$jp\n",
    "fi\n",
    "cd $jp\n"
   ]
  },
  {
   "cell_type": "code",
   "execution_count": null,
   "metadata": {
    "vscode": {
     "languageId": "shellscript"
    }
   },
   "outputs": [],
   "source": [
    "%%bash\n",
    "\n",
    "#cd $CEPH_JTEST_ROOT\n",
    "\n",
    "bin/ceph tell osd.0 dump_scrubs --format=json-pretty > /tmp/ds_00_b4params.json\n",
    "bin/ceph tell osd.1 dump_scrubs --format=json-pretty > /tmp/ds_01_b4params.json\n",
    "bin/ceph tell osd.2 dump_scrubs --format=json-pretty > /tmp/ds_02_b4params.json\n",
    "\n",
    "\n",
    "# set the scheduling parameters\n",
    "\n",
    "bin/ceph osd pool set pl1 scrub_min_interval 1\n",
    "bin/ceph osd pool set pl1 scrub_max_interval 2\n",
    "bin/ceph osd pool set pl1 deep_scrub_interval 3\n",
    "\n",
    "#bin/ceph osd pool set pl2 scrub_min_interval 2\n",
    "#bin/ceph osd pool set pl2 scrub_max_interval 4\n",
    "#bin/ceph osd pool set pl2 deep_scrub_interval 10\n",
    "\n",
    "sleep 3\n",
    "\n",
    "bin/ceph tell osd.0 dump_scrubs --format=json-pretty > /tmp/ds_00.json\n",
    "bin/ceph tell osd.1 dump_scrubs --format=json-pretty > /tmp/ds_01.json\n",
    "bin/ceph tell osd.2 dump_scrubs --format=json-pretty > /tmp/ds_02.json\n",
    "\n",
    "\n",
    "\n"
   ]
  },
  {
   "cell_type": "code",
   "execution_count": null,
   "metadata": {
    "vscode": {
     "languageId": "shellscript"
    }
   },
   "outputs": [],
   "source": [
    "%%bash\n",
    "# set scrub parameters to guarantee slow scrub\n",
    "bin/ceph tell osd.* config set osd_scrub_sleep \"3.0\"\n",
    "bin/ceph tell osd.* config set osd_max_scrubs 1\n",
    "bin/ceph tell osd.* config set osd_scrub_chunk_max 5\n",
    "bin/ceph tell osd.* config set osd_shallow_scrub_chunk_max 5\n"
   ]
  },
  {
   "cell_type": "code",
   "execution_count": null,
   "metadata": {
    "vscode": {
     "languageId": "shellscript"
    }
   },
   "outputs": [],
   "source": [
    "%%bash\n",
    "\n",
    "scrtch=to_\"`date +'%H%M%S'`\"\n",
    "echo $scrtch\n",
    "\n",
    "# list the scrub queue\n",
    "bin/ceph tell osd.0 dump_scrubs --format=json-pretty > /tmp/ds_0$scrtch.json\n",
    "bin/ceph tell osd.1 dump_scrubs --format=json-pretty > /tmp/ds_1$scrtch.json\n",
    "bin/ceph tell osd.2 dump_scrubs --format=json-pretty > /tmp/ds_2$scrtch.json\n",
    "bin/ceph tell osd.0 dump_scrubs --format=json-pretty\n",
    "bin/ceph tell osd.1 dump_scrubs --format=json-pretty\n",
    "bin/ceph tell osd.2 dump_scrubs --format=json-pretty\n"
   ]
  },
  {
   "cell_type": "code",
   "execution_count": null,
   "metadata": {
    "vscode": {
     "languageId": "shellscript"
    }
   },
   "outputs": [],
   "source": [
    "raise SystemExit(\"Stop here\")"
   ]
  },
  {
   "cell_type": "markdown",
   "metadata": {},
   "source": [
    "# Termination\n"
   ]
  },
  {
   "cell_type": "code",
   "execution_count": null,
   "metadata": {
    "vscode": {
     "languageId": "shellscript"
    }
   },
   "outputs": [],
   "source": [
    "%%bash\n",
    "echo '-------->' $CEPH_JTEST_ROOT\n",
    "cd $CEPH_JTEST_ROOT\n",
    "if [ -z $CEPH_JTEST_ROOT ]; then\n",
    "    echo \"CEPH_JTEST_ROOT is not set\"\n",
    "    [[ -f /tmp/jpath ]] && jp=`cat /tmp/jpath` || jp='.'\n",
    "    echo '-------->' $jp\n",
    "    cd $jp\n",
    "    %env CEPH_JTEST_ROOT=$jp\n",
    "fi\n",
    "\n",
    "pwd\n",
    "\n",
    "../src/stop.sh\n",
    "sleep 4\n",
    "../src/stop.sh\n"
   ]
  }
 ],
 "metadata": {
  "kernelspec": {
   "display_name": "Python 3",
   "language": "python",
   "name": "python3"
  },
  "language_info": {
   "codemirror_mode": {
    "name": "ipython",
    "version": 3
   },
   "file_extension": ".py",
   "mimetype": "text/x-python",
   "name": "python",
   "nbconvert_exporter": "python",
   "pygments_lexer": "ipython3",
   "version": "3.12.2"
  }
 },
 "nbformat": 4,
 "nbformat_minor": 2
}
