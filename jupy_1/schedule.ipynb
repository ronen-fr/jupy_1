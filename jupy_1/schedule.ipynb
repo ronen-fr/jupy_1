{
 "cells": [
  {
   "cell_type": "code",
   "execution_count": 12,
   "metadata": {},
   "outputs": [],
   "source": [
    "import os\n",
    "\n",
    "# List the current directory\n",
    "#print(os.listdir(.))"
   ]
  },
  {
   "cell_type": "code",
   "execution_count": null,
   "metadata": {},
   "outputs": [],
   "source": [
    "# Ask the user to select a digit in the range 0 to 8\n",
    "k = int(input(\"Please select a digit in the range 0 to 8: \"))\n",
    "\n",
    "# Check if the digit is within the valid range\n",
    "if 0 <= k <= 8:\n",
    "    print(f\"will be running in k{k}\")\n",
    "else:\n",
    "    print(\"Invalid selection. Please select a digit between 0 and 8.\")\n",
    "    exit(1)\n",
    "\n",
    "from pathlib import Path\n",
    "\n",
    "wd = Path(f\"/home/rfriedma/src/k{k}/ceph/build\")\n",
    "os.chdir(wd)\n",
    "%env CEPH_JTEST_ROOT=/home/rfriedma/src/k{k}/ceph/build\n",
    "!echo $CEPH_JTEST_ROOT > /tmp/jpath\n"
   ]
  },
  {
   "cell_type": "code",
   "execution_count": null,
   "metadata": {},
   "outputs": [],
   "source": [
    "!ls -l\n",
    "!bash -c MGR=0 ls -l\n"
   ]
  },
  {
   "cell_type": "code",
   "execution_count": null,
   "metadata": {
    "vscode": {
     "languageId": "shellscript"
    }
   },
   "outputs": [],
   "source": [
    "%%bash\n",
    "scrtch=to_\"`date +%d_%H%M`\"\n",
    "echo $scrtch\n",
    "\n",
    "MDS=0 MGR=1 OSD=3 MON=1 ../src/vstart.sh -n  --without-dashboard --msgr2 -X --memstore -o \"memstore_device_bytes=68435456\" -o \"osd_op_queue=wpq\"\n",
    "sleep 2\n",
    "bin/ceph -s\n",
    "\n",
    "#bin/ceph tell osd.* config set debug_osd 20/20\n",
    "\n",
    "bin/ceph config set global osd_pool_default_pg_autoscale_mode off\n",
    "sleep 2\n",
    "\n",
    "# disable rescheduling of the queue due to 'no-scrub' flags\n",
    "bin/ceph tell osd.* config set osd_scrub_backoff_ratio 0.9999\n",
    "\n",
    "# initial set of global scrub scheduling parameters\n",
    "bin/ceph tell osd.* config set osd_scrub_interval_randomize_ratio 0.1\n",
    "bin/ceph tell osd.* config set osd_deep_scrub_randomize_ratio 0\n",
    "bin/ceph tell osd.* config set osd_scrub_min_interval 100\n",
    "bin/ceph tell osd.* config set osd_scrub_max_interval 200\n",
    "bin/ceph tell osd.* config set osd_deep_scrub_interval 600\n",
    "\n",
    "\n",
    "#PL1 is of size 3\n",
    "\n",
    "bin/ceph osd pool create pl1 8 8\n",
    "#bin/ceph osd pool autoscale-status\n",
    "sleep 1\n",
    "pl1_num=`bin/ceph osd pool stats pl1 | sed -n -r -e 's/.*id[^0-9]*([0-9]+)$/\\1/p'`\n",
    "echo $pl1_num\n",
    "bin/ceph osd pool set pl1 size 3\n",
    "bin/ceph osd pool set pl1 min_size 3\n",
    "bin/ceph osd pool set pl1 pg_autoscale_mode off\n",
    "bin/ceph osd pool stats\n",
    "bin/ceph osd pool set pl1 noscrub 1\n",
    "bin/ceph osd pool set pl1 nodeep-scrub 1\n",
    "sleep 2\n",
    "\n",
    "bin/rados bench -p pl1 -t 1 1 write -b 4096 --max-objects 8  --no-cleanup; \n",
    "bin/rados bench -p pl1 1 write -b 4096 --max-objects 128 --show-time --no-cleanup --run-name eeeee\n",
    "\n",
    "#PL2\n",
    "\n",
    "bin/ceph osd pool create pl2 8 8\n",
    "bin/ceph osd pool set pl2 size 3\n",
    "bin/ceph osd pool set pl2 min_size 3\n",
    "bin/ceph osd pool set pl2 pg_autoscale_mode off\n",
    "bin/ceph osd pool stats\n",
    "bin/ceph osd pool set pl2 noscrub 1\n",
    "bin/ceph osd pool set pl2 nodeep-scrub 1\n",
    "sleep 2\n",
    "\n",
    "bin/rados bench -p pl2 -t 1 1 write -b 4096 --max-objects 8  --no-cleanup; \n",
    "bin/rados bench -p pl2 1 write -b 4096 --max-objects 128 --show-time --no-cleanup --run-name eeeee\n",
    "sleep 1\n",
    "bin/ceph tell osd.* config set debug_osd 20/20"
   ]
  },
  {
   "cell_type": "code",
   "execution_count": null,
   "metadata": {
    "vscode": {
     "languageId": "shellscript"
    }
   },
   "outputs": [],
   "source": [
    "%%bash\n",
    "echo '-------->' $CEPH_JTEST_ROOT\n",
    "jp=$CEPH_JTEST_ROOT\n",
    "if [ -z $CEPH_JTEST_ROOT ]; then\n",
    "    echo \"CEPH_JTEST_ROOT is not set\"\n",
    "    [[ -f /tmp/jpath ]] && jp=`cat /tmp/jpath` || jp='.'\n",
    "    echo '-------->' $jp\n",
    "    %env CEPH_JTEST_ROOT=$jp\n",
    "fi\n",
    "cd $jp\n"
   ]
  },
  {
   "cell_type": "code",
   "execution_count": null,
   "metadata": {
    "vscode": {
     "languageId": "shellscript"
    }
   },
   "outputs": [],
   "source": [
    "%%bash\n",
    "\n",
    "file_path=\"/path/to/your/file\"\n",
    "if [ -f \"$file_path\" ]; then\n",
    "        file_contents=$(cat \"$file_path\")\n",
    "        echo \"File contents read into variable.\"\n",
    "else\n",
    "        echo \"File does not exist.\"\n",
    "fi"
   ]
  },
  {
   "cell_type": "code",
   "execution_count": null,
   "metadata": {
    "vscode": {
     "languageId": "shellscript"
    }
   },
   "outputs": [],
   "source": [
    "\n",
    "%cd $CEPH_JTEST_ROOT\n",
    "\n",
    "# set the scheduling parameters\n",
    "\n",
    "bin/ceph osd pool set pl1 scrub_min_interval 1\n",
    "bin/ceph osd pool set pl1 scrub_max_interval 2\n",
    "bin/ceph osd pool set pl1 deep_scrub_interval 3\n",
    "\n",
    "bin/ceph osd pool set pl2 scrub_min_interval 2\n",
    "bin/ceph osd pool set pl2 scrub_max_interval 4\n",
    "bin/ceph osd pool set pl2 deep_scrub_interval 10\n",
    "\n",
    "sleep 3\n",
    "\n",
    "bin/ceph tell osd.0 dump_scrubs --format=json-pretty > /tmp/ds_00.json\n",
    "bin/ceph tell osd.1 dump_scrubs --format=json-pretty > /tmp/ds_01.json\n",
    "bin/ceph tell osd.2 dump_scrubs --format=json-pretty > /tmp/ds_02.json\n",
    "\n",
    "\n",
    "\n"
   ]
  },
  {
   "cell_type": "code",
   "execution_count": null,
   "metadata": {
    "vscode": {
     "languageId": "shellscript"
    }
   },
   "outputs": [],
   "source": [
    "%%bash\n",
    "\n",
    "%cd $CEPH_JTEST_ROOT\n",
    "\n",
    "# common scrub configs\n",
    "bin/ceph tell osd.* config set osd_blocked_scrub_grace_period 20\n",
    "bin/ceph tell osd.* config set osd_stats_update_period_scrubbing 2\n",
    "bin/ceph tell osd.* config set osd_stats_update_period_not_scrubbing 3\n",
    "bin/ceph tell osd.* config set osd_scrub_backoff_ratio 0.9999\n",
    "#bin/ceph tell osd.* config set osd_scrub_interval_randomize_ratio 0.1\n",
    "#bin/ceph tell osd.* config set osd_deep_scrub_randomize_ratio 0\n",
    "\n",
    "#bin/ceph tell mgr.$(bin/ceph mgr services | jq -r .mgr) config set mgr_stats_period 2\n"
   ]
  },
  {
   "cell_type": "code",
   "execution_count": null,
   "metadata": {
    "vscode": {
     "languageId": "shellscript"
    }
   },
   "outputs": [],
   "source": [
    "%%bash\n",
    "\n",
    "# list the scrub queue\n",
    "scrtch=to_\"`date +'%H%M%S'`\"\n",
    "echo $scrtch\n",
    "bin/ceph tell osd.0 dump_scrubs --format=json-pretty\n",
    "bin/ceph tell osd.1 dump_scrubs --format=json-pretty\n",
    "bin/ceph tell osd.2 dump_scrubs --format=json-pretty\n",
    "bin/ceph tell osd.0 dump_scrubs --format=json-pretty > /tmp/ds_0$scrtch.json\n",
    "bin/ceph tell osd.1 dump_scrubs --format=json-pretty > /tmp/ds_1$scrtch.json\n",
    "bin/ceph tell osd.2 dump_scrubs --format=json-pretty > /tmp/ds_2$scrtch.json\n"
   ]
  },
  {
   "cell_type": "code",
   "execution_count": null,
   "metadata": {
    "vscode": {
     "languageId": "shellscript"
    }
   },
   "outputs": [],
   "source": [
    "%%bash\n",
    "# set scrub parameters to guarantee slow scrub\n",
    "bin/ceph tell osd.* config set osd_scrub_sleep \"3.0\"\n",
    "bin/ceph tell osd.* config set osd_max_scrubs 1\n",
    "bin/ceph tell osd.* config set osd_scrub_chunk_max 5\n",
    "bin/ceph tell osd.* config set osd_shallow_scrub_chunk_max 5\n"
   ]
  },
  {
   "cell_type": "code",
   "execution_count": null,
   "metadata": {
    "vscode": {
     "languageId": "shellscript"
    }
   },
   "outputs": [],
   "source": [
    "%%bash\n",
    "\n",
    "# set higher urgency to one of the PGs\n",
    "bin/ceph tell $pl1_num.7 scrub\n",
    "bin/ceph tell $pl1_num.6 schedule-deep-scrub\n"
   ]
  },
  {
   "cell_type": "code",
   "execution_count": null,
   "metadata": {
    "vscode": {
     "languageId": "shellscript"
    }
   },
   "outputs": [],
   "source": [
    "%%bash\n",
    "\n",
    "scrtch=to_\"`date +'%H%M%S'`\"\n",
    "echo $scrtch\n",
    "\n",
    "# list the scrub queue\n",
    "bin/ceph tell osd.0 dump_scrubs --format=json-pretty\n",
    "bin/ceph tell osd.1 dump_scrubs --format=json-pretty\n",
    "bin/ceph tell osd.2 dump_scrubs --format=json-pretty\n",
    "bin/ceph tell osd.0 dump_scrubs --format=json-pretty > /tmp/ds_0$scrtch.json\n",
    "bin/ceph tell osd.1 dump_scrubs --format=json-pretty > /tmp/ds_1$scrtch.json\n",
    "bin/ceph tell osd.2 dump_scrubs --format=json-pretty > /tmp/ds_2$scrtch.json\n"
   ]
  },
  {
   "cell_type": "code",
   "execution_count": null,
   "metadata": {
    "vscode": {
     "languageId": "shellscript"
    }
   },
   "outputs": [],
   "source": [
    "raise SystemExit(\"Stop here\")"
   ]
  },
  {
   "cell_type": "markdown",
   "metadata": {},
   "source": [
    "# Termination\n"
   ]
  },
  {
   "cell_type": "code",
   "execution_count": null,
   "metadata": {
    "vscode": {
     "languageId": "shellscript"
    }
   },
   "outputs": [],
   "source": [
    "%%bash\n",
    "echo '-------->' $CEPH_JTEST_ROOT\n",
    "cd $CEPH_JTEST_ROOT\n",
    "if [ -z $CEPH_JTEST_ROOT ]; then\n",
    "    echo \"CEPH_JTEST_ROOT is not set\"\n",
    "    [[ -f /tmp/jpath ]] && jp=`cat /tmp/jpath` || jp='.'\n",
    "    echo '-------->' $jp\n",
    "    cd $jp\n",
    "    %env CEPH_JTEST_ROOT=$jp\n",
    "fi\n",
    "\n",
    "pwd\n",
    "\n",
    "../src/stop.sh\n",
    "sleep 4\n",
    "../src/stop.sh\n"
   ]
  }
 ],
 "metadata": {
  "kernelspec": {
   "display_name": "Python 3",
   "language": "python",
   "name": "python3"
  },
  "language_info": {
   "codemirror_mode": {
    "name": "ipython",
    "version": 3
   },
   "file_extension": ".py",
   "mimetype": "text/x-python",
   "name": "python",
   "nbconvert_exporter": "python",
   "pygments_lexer": "ipython3",
   "version": "3.12.2"
  }
 },
 "nbformat": 4,
 "nbformat_minor": 2
}
