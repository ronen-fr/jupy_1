{
 "cells": [
  {
   "cell_type": "code",
   "execution_count": 1,
   "metadata": {},
   "outputs": [],
   "source": [
    "import os\n",
    "\n",
    "# List the current directory\n",
    "#print(os.listdir(.))"
   ]
  },
  {
   "cell_type": "code",
   "execution_count": null,
   "metadata": {},
   "outputs": [],
   "source": [
    "# Ask the user to select a digit in the range 0 to 8\n",
    "k = int(input(\"Please select a digit in the range 0 to 8: \"))\n",
    "\n",
    "# Check if the digit is within the valid range\n",
    "if 0 <= k <= 8:\n",
    "    print(f\"will be running in k{k}\")\n",
    "else:\n",
    "    print(\"Invalid selection. Please select a digit between 0 and 8.\")\n",
    "    exit(1)\n",
    "\n",
    "from pathlib import Path\n",
    "\n",
    "wd = Path(f\"/home/rfriedma/src/k{k}/ceph/build\")\n",
    "os.chdir(wd)"
   ]
  },
  {
   "cell_type": "code",
   "execution_count": null,
   "metadata": {},
   "outputs": [],
   "source": [
    "!ls -l\n",
    "!bash -c MGR=0 ls -l"
   ]
  },
  {
   "cell_type": "code",
   "execution_count": null,
   "metadata": {
    "vscode": {
     "languageId": "shellscript"
    }
   },
   "outputs": [],
   "source": [
    "%%bash\n",
    "scrtch=to_\"`date +%d_%H%M`\"\n",
    "echo $scrtch\n",
    "\n",
    "MDS=0 MGR=1 OSD=4 MON=1 ../src/vstart.sh -n --msgr2 -X --memstore -o \"memstore_device_bytes=68435456\" -o \"osd_op_queue=wpq\"\n",
    "sleep 2\n",
    "bin/ceph -s\n",
    "\n",
    "bin/ceph tell osd.* config set debug_osd 20/20\n",
    "#bin/ceph osd set nodown\n",
    "\n",
    "bin/ceph config set global osd_pool_default_pg_autoscale_mode off\n",
    "sleep 2\n",
    "\n",
    "#PL1 is of size 3\n",
    "\n",
    "bin/ceph osd pool create pl1 4 4\n",
    "#bin/ceph osd pool autoscale-status\n",
    "sleep 1\n",
    "bin/ceph osd pool set pl1 size 3\n",
    "bin/ceph osd pool set pl1 min_size 3\n",
    "bin/ceph osd pool set pl1 pg_autoscale_mode off\n",
    "bin/ceph osd pool stats\n",
    "bin/ceph osd pool set pl1 noscrub 1\n",
    "sleep 2\n",
    "\n",
    "bin/rados bench -p pl1 -t 1 1 write -b 4096 --max-objects 8  --no-cleanup; \n",
    "bin/rados bench -p pl1 1 write -b 4096 --max-objects 128 --show-time --no-cleanup --run-name eeeee\n"
   ]
  },
  {
   "cell_type": "code",
   "execution_count": 6,
   "metadata": {
    "vscode": {
     "languageId": "shellscript"
    }
   },
   "outputs": [],
   "source": [
    "%%bash\n",
    "# common scrub configs\n",
    "bin/ceph tell osd.* config set osd_blocked_scrub_grace_period 20\n",
    "bin/ceph tell osd.* config set osd_stats_update_period_scrubbing 2\n",
    "bin/ceph tell osd.* config set osd_stats_update_period_not_scrubbing 3\n",
    "bin/ceph tell osd.* config set osd_scrub_backoff_ratio 0\n",
    "bin/ceph tell osd.* config set osd_scrub_interval_randomize_ratio 0\n",
    "bin/ceph tell osd.* config set osd_deep_scrub_randomize_ratio 0\n",
    "\n",
    "bin/ceph tell mgr.$(bin/ceph mgr services | jq -r .mgr) config set mgr_stats_period 2\n"
   ]
  },
  {
   "cell_type": "code",
   "execution_count": 7,
   "metadata": {
    "vscode": {
     "languageId": "shellscript"
    }
   },
   "outputs": [],
   "source": [
    "%%bash\n",
    "# set scrub parameters to guarantee slow scrub\n",
    "bin/ceph tell osd.* config set osd_scrub_sleep \"3.0\"\n",
    "bin/ceph tell osd.* config set osd_max_scrubs 1\n",
    "bin/ceph tell osd.* config set osd_scrub_chunk_max 5\n",
    "bin/ceph tell osd.* config set osd_shallow_scrub_chunk_max 5\n"
   ]
  },
  {
   "cell_type": "code",
   "execution_count": null,
   "metadata": {
    "vscode": {
     "languageId": "shellscript"
    }
   },
   "outputs": [],
   "source": [
    "raise SystemExit(\"Stop here\")"
   ]
  },
  {
   "cell_type": "markdown",
   "metadata": {},
   "source": [
    "# Termination\n"
   ]
  },
  {
   "cell_type": "code",
   "execution_count": null,
   "metadata": {
    "vscode": {
     "languageId": "shellscript"
    }
   },
   "outputs": [],
   "source": [
    "%%bash\n",
    "../src/stop.sh\n",
    "sleep 4\n",
    "../src/stop.sh\n"
   ]
  }
 ],
 "metadata": {
  "kernelspec": {
   "display_name": "Python 3",
   "language": "python",
   "name": "python3"
  },
  "language_info": {
   "codemirror_mode": {
    "name": "ipython",
    "version": 3
   },
   "file_extension": ".py",
   "mimetype": "text/x-python",
   "name": "python",
   "nbconvert_exporter": "python",
   "pygments_lexer": "ipython3",
   "version": "3.12.2"
  }
 },
 "nbformat": 4,
 "nbformat_minor": 2
}
